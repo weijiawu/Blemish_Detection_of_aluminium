{
 "cells": [
  {
   "cell_type": "markdown",
   "metadata": {},
   "source": [
    "# 搭建CNN"
   ]
  },
  {
   "cell_type": "code",
   "execution_count": 1,
   "metadata": {},
   "outputs": [
    {
     "name": "stderr",
     "output_type": "stream",
     "text": [
      "/home/weijia.wu/anaconda2/lib/python2.7/site-packages/h5py/__init__.py:36: FutureWarning: Conversion of the second argument of issubdtype from `float` to `np.floating` is deprecated. In future, it will be treated as `np.float64 == np.dtype(float).type`.\n",
      "  from ._conv import register_converters as _register_converters\n",
      "Using TensorFlow backend.\n"
     ]
    }
   ],
   "source": [
    "from keras.models import Sequential\n",
    "from keras.layers.convolutional import Conv2D,MaxPooling2D\n",
    "from keras.layers.core import Activation\n",
    "from keras.layers.core import Flatten , Dense ,Dropout\n",
    "from keras import backend as K\n",
    "from imutils import paths\n",
    "from keras import applications\n",
    "from keras.layers import Input, concatenate, GlobalAveragePooling2D\n",
    "from keras.models import Model,load_model\n",
    "from keras import regularizers\n",
    "from keras.applications import ResNet50\n",
    "import os\n",
    "os.environ[\"CUDA_DEVICE_ORDER\"]=\"PCI_BUS_ID\"  \n",
    "os.environ[\"CUDA_VISIBLE_DEVICES\"]=\"2\"  \n",
    "\n",
    "base_model = ResNet50(input_shape=(512,512,3),include_top=False, weights='imagenet')\n",
    "\n",
    "\n",
    "# # build a classifier model to put on top of the convolutional model\n",
    "# top_model = Sequential()\n",
    "\n",
    "# top_model.add(AveragePooling2D(input_shape=base_model.output_shape[1:]))\n",
    "# # top_model.add(AveragePooling2D())\n",
    "# top_model.add(Dense(512, activation='relu'))\n",
    "# top_model.add(Dropout(0.5))\n",
    "# top_model.add(Dense(12, activation='softmax'))\n",
    "x = base_model.output\n",
    "x = GlobalAveragePooling2D()(x)\n",
    "x = Dense(512,activation='relu')(x)\n",
    "x = Dropout(0.5)(x)\n",
    "prediction = Dense(12,activation='softmax')(x)\n",
    "        \n",
    "model = Model(inputs=base_model.input, outputs=prediction) "
   ]
  },
  {
   "cell_type": "code",
   "execution_count": 119,
   "metadata": {},
   "outputs": [
    {
     "data": {
      "text/plain": [
       "[('input_15', 0),\n",
       " ('conv1', 1),\n",
       " ('bn_conv1', 2),\n",
       " ('activation_687', 3),\n",
       " ('max_pooling2d_15', 4),\n",
       " ('res2a_branch2a', 5),\n",
       " ('bn2a_branch2a', 6),\n",
       " ('activation_688', 7),\n",
       " ('res2a_branch2b', 8),\n",
       " ('bn2a_branch2b', 9),\n",
       " ('activation_689', 10),\n",
       " ('res2a_branch2c', 11),\n",
       " ('res2a_branch1', 12),\n",
       " ('bn2a_branch2c', 13),\n",
       " ('bn2a_branch1', 14),\n",
       " ('add_225', 15),\n",
       " ('activation_690', 16),\n",
       " ('res2b_branch2a', 17),\n",
       " ('bn2b_branch2a', 18),\n",
       " ('activation_691', 19),\n",
       " ('res2b_branch2b', 20),\n",
       " ('bn2b_branch2b', 21),\n",
       " ('activation_692', 22),\n",
       " ('res2b_branch2c', 23),\n",
       " ('bn2b_branch2c', 24),\n",
       " ('add_226', 25),\n",
       " ('activation_693', 26),\n",
       " ('res2c_branch2a', 27),\n",
       " ('bn2c_branch2a', 28),\n",
       " ('activation_694', 29),\n",
       " ('res2c_branch2b', 30),\n",
       " ('bn2c_branch2b', 31),\n",
       " ('activation_695', 32),\n",
       " ('res2c_branch2c', 33),\n",
       " ('bn2c_branch2c', 34),\n",
       " ('add_227', 35),\n",
       " ('activation_696', 36),\n",
       " ('res3a_branch2a', 37),\n",
       " ('bn3a_branch2a', 38),\n",
       " ('activation_697', 39),\n",
       " ('res3a_branch2b', 40),\n",
       " ('bn3a_branch2b', 41),\n",
       " ('activation_698', 42),\n",
       " ('res3a_branch2c', 43),\n",
       " ('res3a_branch1', 44),\n",
       " ('bn3a_branch2c', 45),\n",
       " ('bn3a_branch1', 46),\n",
       " ('add_228', 47),\n",
       " ('activation_699', 48),\n",
       " ('res3b_branch2a', 49),\n",
       " ('bn3b_branch2a', 50),\n",
       " ('activation_700', 51),\n",
       " ('res3b_branch2b', 52),\n",
       " ('bn3b_branch2b', 53),\n",
       " ('activation_701', 54),\n",
       " ('res3b_branch2c', 55),\n",
       " ('bn3b_branch2c', 56),\n",
       " ('add_229', 57),\n",
       " ('activation_702', 58),\n",
       " ('res3c_branch2a', 59),\n",
       " ('bn3c_branch2a', 60),\n",
       " ('activation_703', 61),\n",
       " ('res3c_branch2b', 62),\n",
       " ('bn3c_branch2b', 63),\n",
       " ('activation_704', 64),\n",
       " ('res3c_branch2c', 65),\n",
       " ('bn3c_branch2c', 66),\n",
       " ('add_230', 67),\n",
       " ('activation_705', 68),\n",
       " ('res3d_branch2a', 69),\n",
       " ('bn3d_branch2a', 70),\n",
       " ('activation_706', 71),\n",
       " ('res3d_branch2b', 72),\n",
       " ('bn3d_branch2b', 73),\n",
       " ('activation_707', 74),\n",
       " ('res3d_branch2c', 75),\n",
       " ('bn3d_branch2c', 76),\n",
       " ('add_231', 77),\n",
       " ('activation_708', 78),\n",
       " ('res4a_branch2a', 79),\n",
       " ('bn4a_branch2a', 80),\n",
       " ('activation_709', 81),\n",
       " ('res4a_branch2b', 82),\n",
       " ('bn4a_branch2b', 83),\n",
       " ('activation_710', 84),\n",
       " ('res4a_branch2c', 85),\n",
       " ('res4a_branch1', 86),\n",
       " ('bn4a_branch2c', 87),\n",
       " ('bn4a_branch1', 88),\n",
       " ('add_232', 89),\n",
       " ('activation_711', 90),\n",
       " ('res4b_branch2a', 91),\n",
       " ('bn4b_branch2a', 92),\n",
       " ('activation_712', 93),\n",
       " ('res4b_branch2b', 94),\n",
       " ('bn4b_branch2b', 95),\n",
       " ('activation_713', 96),\n",
       " ('res4b_branch2c', 97),\n",
       " ('bn4b_branch2c', 98),\n",
       " ('add_233', 99),\n",
       " ('activation_714', 100),\n",
       " ('res4c_branch2a', 101),\n",
       " ('bn4c_branch2a', 102),\n",
       " ('activation_715', 103),\n",
       " ('res4c_branch2b', 104),\n",
       " ('bn4c_branch2b', 105),\n",
       " ('activation_716', 106),\n",
       " ('res4c_branch2c', 107),\n",
       " ('bn4c_branch2c', 108),\n",
       " ('add_234', 109),\n",
       " ('activation_717', 110),\n",
       " ('res4d_branch2a', 111),\n",
       " ('bn4d_branch2a', 112),\n",
       " ('activation_718', 113),\n",
       " ('res4d_branch2b', 114),\n",
       " ('bn4d_branch2b', 115),\n",
       " ('activation_719', 116),\n",
       " ('res4d_branch2c', 117),\n",
       " ('bn4d_branch2c', 118),\n",
       " ('add_235', 119),\n",
       " ('activation_720', 120),\n",
       " ('res4e_branch2a', 121),\n",
       " ('bn4e_branch2a', 122),\n",
       " ('activation_721', 123),\n",
       " ('res4e_branch2b', 124),\n",
       " ('bn4e_branch2b', 125),\n",
       " ('activation_722', 126),\n",
       " ('res4e_branch2c', 127),\n",
       " ('bn4e_branch2c', 128),\n",
       " ('add_236', 129),\n",
       " ('activation_723', 130),\n",
       " ('res4f_branch2a', 131),\n",
       " ('bn4f_branch2a', 132),\n",
       " ('activation_724', 133),\n",
       " ('res4f_branch2b', 134),\n",
       " ('bn4f_branch2b', 135),\n",
       " ('activation_725', 136),\n",
       " ('res4f_branch2c', 137),\n",
       " ('bn4f_branch2c', 138),\n",
       " ('add_237', 139),\n",
       " ('activation_726', 140),\n",
       " ('res5a_branch2a', 141),\n",
       " ('bn5a_branch2a', 142),\n",
       " ('activation_727', 143),\n",
       " ('res5a_branch2b', 144),\n",
       " ('bn5a_branch2b', 145),\n",
       " ('activation_728', 146),\n",
       " ('res5a_branch2c', 147),\n",
       " ('res5a_branch1', 148),\n",
       " ('bn5a_branch2c', 149),\n",
       " ('bn5a_branch1', 150),\n",
       " ('add_238', 151),\n",
       " ('activation_729', 152),\n",
       " ('res5b_branch2a', 153),\n",
       " ('bn5b_branch2a', 154),\n",
       " ('activation_730', 155),\n",
       " ('res5b_branch2b', 156),\n",
       " ('bn5b_branch2b', 157),\n",
       " ('activation_731', 158),\n",
       " ('res5b_branch2c', 159),\n",
       " ('bn5b_branch2c', 160),\n",
       " ('add_239', 161),\n",
       " ('activation_732', 162),\n",
       " ('res5c_branch2a', 163),\n",
       " ('bn5c_branch2a', 164),\n",
       " ('activation_733', 165),\n",
       " ('res5c_branch2b', 166),\n",
       " ('bn5c_branch2b', 167),\n",
       " ('activation_734', 168),\n",
       " ('res5c_branch2c', 169),\n",
       " ('bn5c_branch2c', 170),\n",
       " ('add_240', 171),\n",
       " ('activation_735', 172),\n",
       " ('avg_pool', 173),\n",
       " ('global_average_pooling2d_2', 174),\n",
       " ('dense_19', 175),\n",
       " ('dropout_10', 176),\n",
       " ('dense_20', 177)]"
      ]
     },
     "execution_count": 119,
     "metadata": {},
     "output_type": "execute_result"
    }
   ],
   "source": [
    "\n",
    "zip([x.name for x in model.layers], range(len(model.layers)))"
   ]
  },
  {
   "cell_type": "code",
   "execution_count": 2,
   "metadata": {},
   "outputs": [
    {
     "data": {
      "text/plain": [
       "TensorShape([Dimension(None), Dimension(12)])"
      ]
     },
     "execution_count": 2,
     "metadata": {},
     "output_type": "execute_result"
    }
   ],
   "source": [
    "model.output.shape"
   ]
  },
  {
   "cell_type": "code",
   "execution_count": 3,
   "metadata": {},
   "outputs": [
    {
     "data": {
      "text/plain": [
       "<tf.Tensor 'dense_2/Softmax:0' shape=(?, 12) dtype=float32>"
      ]
     },
     "execution_count": 3,
     "metadata": {},
     "output_type": "execute_result"
    }
   ],
   "source": [
    "model.layers[177].output"
   ]
  },
  {
   "cell_type": "markdown",
   "metadata": {},
   "source": [
    "# 声明全局变量"
   ]
  },
  {
   "cell_type": "code",
   "execution_count": 2,
   "metadata": {},
   "outputs": [],
   "source": [
    "from keras.preprocessing.image import ImageDataGenerator\n",
    "from keras.optimizers import Adam\n",
    "from sklearn.model_selection import train_test_split\n",
    "from keras.preprocessing.image import img_to_array\n",
    "from keras.utils import to_categorical\n",
    "import matplotlib.pyplot as plt\n",
    "import numpy as np\n",
    "import random\n",
    "import cv2\n",
    "import os\n",
    "import sys\n",
    "sys.path.append('..')\n",
    "\n",
    "\n",
    "# initialize the number of epochs to train for, initial learning rate,\n",
    "# and batch size\n",
    "EPOCHS = 50\n",
    "INIT_LR = 1e-3\n",
    "BS = 5\n",
    "CLASS_NUM = 12\n",
    "norm_size = 512\n",
    "\n"
   ]
  },
  {
   "cell_type": "markdown",
   "metadata": {},
   "source": [
    "# 导入数据"
   ]
  },
  {
   "cell_type": "code",
   "execution_count": 3,
   "metadata": {},
   "outputs": [],
   "source": [
    "import pandas as pd\n",
    "import numpy as np\n",
    "import matplotlib.pyplot as plt\n",
    "\n",
    "def load_data(path):\n",
    "    print('[INFO] loading images...')\n",
    "    data = []\n",
    "    labels = []\n",
    "    # grad the image paths and randomly shuffle them\n",
    "    imagePaths = sorted(list(paths.list_images(path)))\n",
    "#     print(imagePaths)\n",
    "    random.seed(42)\n",
    "    random.shuffle(imagePaths)\n",
    "    # loop over the imput image \n",
    "    for imagePath in imagePaths:\n",
    "        image = cv2.imread(imagePath)\n",
    "#         print(image)\n",
    "        image = cv2.resize(image, (norm_size,norm_size))\n",
    "        image = img_to_array(image)\n",
    "        data.append(image)\n",
    "        \n",
    "        # extract the class label from the image path and update the label list\n",
    "        label = str(imagePath.split(os.path.sep)[-2])\n",
    "#         print(label)\n",
    "        labels.append(label)\n",
    "        \n",
    "    # scale the raw pixel intensities to the range(0,1)\n",
    "    data = np.array(data,dtype=\"float\") / 255.0\n",
    "    labels = np.array(labels)\n",
    "    \n",
    "    labels = to_categorical(labels,num_classes=CLASS_NUM)\n",
    "    return data,labels\n",
    "\n",
    "def panda_data(label):\n",
    "    number_list = label\n",
    "    num_list = ['norm','defect1','defect2','defect3','defect4','defect5','defect6','defect7','defect8','defect9','defect10','defect11']\n",
    "    plt.figure(figsize=(20,10))\n",
    "    plt.bar(range(len(number_list)), number_list, tick_label = num_list)\n",
    "    plt.show()\n",
    "#     df = pd.DataFrame(\n",
    "#     {'Number' : label}, \n",
    "#         index = ['norm','defect1','defect2','defect3','defect4','defect5','defect6','defect7','defect8','defect9','defect10','defect11'])\n",
    "#     df.hist(grid=False,column=\"Number\")\n"
   ]
  },
  {
   "cell_type": "code",
   "execution_count": 85,
   "metadata": {},
   "outputs": [
    {
     "name": "stdout",
     "output_type": "stream",
     "text": [
      "[INFO] loading images...\n"
     ]
    },
    {
     "data": {
      "image/png": "[encoded data removed]",
      "text/plain": [
       "<Figure size 1440x720 with 1 Axes>"
      ]
     },
     "metadata": {},
     "output_type": "display_data"
    },
    {
     "name": "stdout",
     "output_type": "stream",
     "text": [
      "[1018.0, 39.0, 149.0, 47.0, 90.0, 282.0, 77.0, 54.0, 62.0, 35.0, 209.0, 178.0]\n"
     ]
    }
   ],
   "source": [
    "from imutils import paths\n",
    "import random\n",
    "import cv2\n",
    "\n",
    "train_file_path = \"/home/weijia.wu/workspace/Kaggle/rolled_steel/dataset_gray/train_data\"\n",
    "trainX,trainY = load_data(train_file_path)\n",
    "col = map(sum,zip(*trainY))   #按列相加\n",
    "panda_data(col)\n",
    "print(col)"
   ]
  },
  {
   "cell_type": "code",
   "execution_count": 4,
   "metadata": {},
   "outputs": [
    {
     "name": "stdout",
     "output_type": "stream",
     "text": [
      "[INFO] loading images...\n"
     ]
    },
    {
     "data": {
      "image/png": "[encoded data removed]",
      "text/plain": [
       "<Figure size 1440x720 with 1 Axes>"
      ]
     },
     "metadata": {},
     "output_type": "display_data"
    },
    {
     "name": "stdout",
     "output_type": "stream",
     "text": [
      "[1018.0, 39.0, 149.0, 47.0, 90.0, 282.0, 77.0, 54.0, 61.0, 35.0, 209.0, 178.0]\n"
     ]
    }
   ],
   "source": [
    "from imutils import paths\n",
    "import random\n",
    "import cv2\n",
    "\n",
    "train_file_path = \"/home/weijia.wu/workspace/Kaggle/rolled_steel/dataset_gray/train_data\"\n",
    "trainX,trainY = load_data(train_file_path)\n",
    "col = map(sum,zip(*trainY))   #按列相加\n",
    "panda_data(col)\n",
    "print(col)"
   ]
  },
  {
   "cell_type": "markdown",
   "metadata": {},
   "source": [
    "# 自定义评价函数"
   ]
  },
  {
   "cell_type": "code",
   "execution_count": 5,
   "metadata": {},
   "outputs": [],
   "source": [
    "import tensorflow as tf\n",
    "def metric_LB(y_true,y_pred):\n",
    "    y_pred_label = K.argmax(y_pred,axis=-1)\n",
    "    y_pred_ = K.one_hot(y_pred_label,num_classes=12)\n",
    "    tp_fp = K.sum(y_pred_,axis=0)\n",
    "    n = tf.count_nonzero(tp_fp,dtype='float32')\n",
    "    tp = K.sum(y_true*y_pred_,axis=0)\n",
    "    return K.sum(tp/(tp_fp+1e-6))/n"
   ]
  },
  {
   "cell_type": "markdown",
   "metadata": {},
   "source": [
    "# 训练数据"
   ]
  },
  {
   "cell_type": "code",
   "execution_count": 15,
   "metadata": {},
   "outputs": [],
   "source": [
    "from keras.callbacks import ReduceLROnPlateau\n",
    "\n",
    "# 当评价指标不在提升时，减少学习率\n",
    "reduce_lr = ReduceLROnPlateau(monitor='val_metric_LB', patience=5, mode='auto',factor=0.5,min_lr =0.5e-6)\n",
    "\n",
    "def train(aug,trainX,trainY,testX,testY):\n",
    "    # initialize the model\n",
    "    print(\"[INFO] compiling model ...\")\n",
    "#     model = ResNet50(width=norm_size,height = norm_size,depth=3 , classes=CLASS_NUM)\n",
    "#     opt = Adam(lr=INIT_LR,decay=INIT_LR / EPOCHS)\n",
    "#     model.compile(loss=\"categorical_crossentropy\", optimizer=opt,\n",
    "#         metrics=[\"accuracy\"])\n",
    "\n",
    "    model.compile(loss='categorical_crossentropy',\n",
    "              optimizer=optimizers.Adam(lr=1e-4, decay=1e-6),\n",
    "              metrics=['accuracy', metric_LB])\n",
    "    #train the network\n",
    "    print(\"[INFO] training network...\")\n",
    "    H = model.fit_generator(aug.flow(trainX, trainY, batch_size=BS),\n",
    "        validation_data=(testX, testY), steps_per_epoch=len(trainX) // BS,\n",
    "        epochs=EPOCHS, verbose=1,callbacks=[checkpoint,reduce_lr],class_weight={0:1., 1:26.25806452, 2:6.832214, 3:21.42105263, \n",
    "                                                                                                                  4:11.30555556, 5:3.609929078, 6:13.12903226, \n",
    "                                                                                                                  7:18.85023256, 8:16.41917647, 9:29.07142857,\n",
    "                                                                                                                  10:4.8742515 ,  11:5.7197011234 \n",
    "                                                                                                                    })\n",
    "\n",
    "    # save the model to disk\n",
    "    print(\"[INFO] serializing network...\")\n",
    "    model.save('/home/weijia.wu/workspace/Kaggle/rolled_steel/dataset_gray/ResNet_rolled_stee2.model')\n",
    "    \n",
    "    # plot the training loss and accuracy\n",
    "    plt.style.use(\"ggplot\")\n",
    "    plt.figure()\n",
    "    N = EPOCHS\n",
    "    plt.plot(np.arange(0, N), H.history[\"loss\"], label=\"train_loss\")\n",
    "    plt.plot(np.arange(0, N), H.history[\"val_loss\"], label=\"val_loss\")\n",
    "    plt.plot(np.arange(0, N), H.history[\"acc\"], label=\"train_acc\")\n",
    "    plt.plot(np.arange(0, N), H.history[\"val_acc\"], label=\"val_acc\")\n",
    "    plt.title(\"Training Loss and Accuracy on rolled_steel classifier\")\n",
    "    plt.xlabel(\"Epoch #\")\n",
    "    plt.ylabel(\"Loss/Accuracy\")\n",
    "    plt.legend(loc=\"lower left\")\n",
    "    plt.savefig(\"/home/weijia.wu/workspace/Kaggle/rolled_steel/dataset_gray/ResNet_weijiawu_gray_2\")"
   ]
  },
  {
   "cell_type": "markdown",
   "metadata": {},
   "source": [
    "# 实时优化器"
   ]
  },
  {
   "cell_type": "code",
   "execution_count": 16,
   "metadata": {},
   "outputs": [],
   "source": [
    "from keras.callbacks import ModelCheckpoint\n",
    "filepath = '/home/weijia.wu/workspace/Kaggle/rolled_steel/dataset_gray/ResNet_weijiawu_gray_2.model'\n",
    "checkpoint = ModelCheckpoint(\n",
    "    filepath, \n",
    "    monitor='val_metric_LB', \n",
    "    verbose=0, \n",
    "    save_best_only=True, \n",
    "    save_weights_only=False, \n",
    "    mode='max', \n",
    "    period=1\n",
    ")"
   ]
  },
  {
   "cell_type": "markdown",
   "metadata": {},
   "source": [
    "# 导入数据并开始训练"
   ]
  },
  {
   "cell_type": "code",
   "execution_count": 20,
   "metadata": {},
   "outputs": [],
   "source": [
    "model.load_weights(\"/home/weijia.wu/workspace/Kaggle/rolled_steel/dataset_gray/ResNet_weijiawu_gray_2.model\")"
   ]
  },
  {
   "cell_type": "code",
   "execution_count": 17,
   "metadata": {
    "scrolled": false
   },
   "outputs": [
    {
     "name": "stdout",
     "output_type": "stream",
     "text": [
      "[INFO] loading images...\n",
      "[INFO] compiling model ...\n",
      "[INFO] training network...\n",
      "Epoch 1/50\n",
      "359/358 [==============================] - 157s 437ms/step - loss: 1.6583 - acc: 0.8404 - metric_LB: 0.8188 - val_loss: 0.8299 - val_acc: 0.7500 - val_metric_LB: 0.7337\n",
      "Epoch 2/50\n",
      "359/358 [==============================] - 147s 409ms/step - loss: 1.9936 - acc: 0.8210 - metric_LB: 0.7877 - val_loss: 1.4295 - val_acc: 0.5804 - val_metric_LB: 0.5970\n",
      "Epoch 3/50\n",
      "359/358 [==============================] - 147s 409ms/step - loss: 2.3571 - acc: 0.8205 - metric_LB: 0.7933 - val_loss: 3.4129 - val_acc: 0.2924 - val_metric_LB: 0.3092\n",
      "Epoch 4/50\n",
      "359/358 [==============================] - 147s 410ms/step - loss: 1.6379 - acc: 0.8543 - metric_LB: 0.8345 - val_loss: 0.9947 - val_acc: 0.6496 - val_metric_LB: 0.6473\n",
      "Epoch 5/50\n",
      "359/358 [==============================] - 147s 410ms/step - loss: 1.3902 - acc: 0.8609 - metric_LB: 0.8362 - val_loss: 0.8938 - val_acc: 0.7299 - val_metric_LB: 0.7119\n",
      "Epoch 6/50\n",
      "359/358 [==============================] - 149s 414ms/step - loss: 1.5690 - acc: 0.8643 - metric_LB: 0.8349 - val_loss: 0.6931 - val_acc: 0.7723 - val_metric_LB: 0.7595\n",
      "Epoch 7/50\n",
      "359/358 [==============================] - 149s 414ms/step - loss: 1.8472 - acc: 0.8454 - metric_LB: 0.8206 - val_loss: 0.4247 - val_acc: 0.8549 - val_metric_LB: 0.8379\n",
      "Epoch 8/50\n",
      "359/358 [==============================] - 147s 410ms/step - loss: 1.4050 - acc: 0.8759 - metric_LB: 0.8516 - val_loss: 1.7453 - val_acc: 0.4487 - val_metric_LB: 0.4738\n",
      "Epoch 9/50\n",
      "359/358 [==============================] - 149s 415ms/step - loss: 2.3922 - acc: 0.8222 - metric_LB: 0.7936 - val_loss: 1.3940 - val_acc: 0.5558 - val_metric_LB: 0.5547\n",
      "Epoch 10/50\n",
      "359/358 [==============================] - 149s 415ms/step - loss: 1.5940 - acc: 0.8936 - metric_LB: 0.8628 - val_loss: 0.3593 - val_acc: 0.8839 - val_metric_LB: 0.8631\n",
      "Epoch 11/50\n",
      "359/358 [==============================] - 149s 416ms/step - loss: 0.8472 - acc: 0.9241 - metric_LB: 0.9047 - val_loss: 0.3213 - val_acc: 0.9018 - val_metric_LB: 0.8911\n",
      "Epoch 12/50\n",
      "359/358 [==============================] - 147s 411ms/step - loss: 0.7234 - acc: 0.9330 - metric_LB: 0.9147 - val_loss: 0.4167 - val_acc: 0.8839 - val_metric_LB: 0.8655\n",
      "Epoch 13/50\n",
      "359/358 [==============================] - 147s 411ms/step - loss: 0.6009 - acc: 0.9435 - metric_LB: 0.9311 - val_loss: 0.4376 - val_acc: 0.8862 - val_metric_LB: 0.8659\n",
      "Epoch 14/50\n",
      "359/358 [==============================] - 149s 415ms/step - loss: 0.6235 - acc: 0.9357 - metric_LB: 0.9223 - val_loss: 0.4145 - val_acc: 0.9063 - val_metric_LB: 0.8972\n",
      "Epoch 15/50\n",
      "359/358 [==============================] - 149s 416ms/step - loss: 0.5192 - acc: 0.9457 - metric_LB: 0.9314 - val_loss: 0.4026 - val_acc: 0.9152 - val_metric_LB: 0.9014\n",
      "Epoch 16/50\n",
      "359/358 [==============================] - 149s 416ms/step - loss: 0.4160 - acc: 0.9596 - metric_LB: 0.9460 - val_loss: 0.3916 - val_acc: 0.9152 - val_metric_LB: 0.9081\n",
      "Epoch 17/50\n",
      "359/358 [==============================] - 147s 410ms/step - loss: 0.4141 - acc: 0.9573 - metric_LB: 0.9457 - val_loss: 0.3747 - val_acc: 0.9040 - val_metric_LB: 0.8872\n",
      "Epoch 18/50\n",
      "359/358 [==============================] - 147s 411ms/step - loss: 0.3815 - acc: 0.9695 - metric_LB: 0.9620 - val_loss: 0.3520 - val_acc: 0.9196 - val_metric_LB: 0.9041\n",
      "Epoch 19/50\n",
      "359/358 [==============================] - 150s 417ms/step - loss: 0.4487 - acc: 0.9579 - metric_LB: 0.9476 - val_loss: 0.3544 - val_acc: 0.9196 - val_metric_LB: 0.9091\n",
      "Epoch 20/50\n",
      "359/358 [==============================] - 147s 410ms/step - loss: 0.3514 - acc: 0.9690 - metric_LB: 0.9596 - val_loss: 0.3604 - val_acc: 0.9196 - val_metric_LB: 0.9051\n",
      "Epoch 21/50\n",
      "359/358 [==============================] - 149s 415ms/step - loss: 0.3424 - acc: 0.9729 - metric_LB: 0.9671 - val_loss: 0.3617 - val_acc: 0.9263 - val_metric_LB: 0.9164\n",
      "Epoch 22/50\n",
      "359/358 [==============================] - 149s 415ms/step - loss: 0.3203 - acc: 0.9751 - metric_LB: 0.9683 - val_loss: 0.3639 - val_acc: 0.9420 - val_metric_LB: 0.9304\n",
      "Epoch 23/50\n",
      "359/358 [==============================] - 149s 414ms/step - loss: 0.3520 - acc: 0.9673 - metric_LB: 0.9582 - val_loss: 0.3504 - val_acc: 0.9375 - val_metric_LB: 0.9248\n",
      "Epoch 24/50\n",
      "359/358 [==============================] - 147s 410ms/step - loss: 0.2710 - acc: 0.9762 - metric_LB: 0.9686 - val_loss: 0.3789 - val_acc: 0.9330 - val_metric_LB: 0.9195\n",
      "Epoch 25/50\n",
      "359/358 [==============================] - 147s 410ms/step - loss: 0.2733 - acc: 0.9751 - metric_LB: 0.9682 - val_loss: 0.3373 - val_acc: 0.9397 - val_metric_LB: 0.9262\n",
      "Epoch 26/50\n",
      "359/358 [==============================] - 147s 411ms/step - loss: 0.1905 - acc: 0.9817 - metric_LB: 0.9778 - val_loss: 0.3460 - val_acc: 0.9375 - val_metric_LB: 0.9272\n",
      "Epoch 27/50\n",
      "359/358 [==============================] - 150s 418ms/step - loss: 0.1771 - acc: 0.9812 - metric_LB: 0.9748 - val_loss: 0.3542 - val_acc: 0.9442 - val_metric_LB: 0.9345\n",
      "Epoch 28/50\n",
      "359/358 [==============================] - 149s 416ms/step - loss: 0.2093 - acc: 0.9773 - metric_LB: 0.9705 - val_loss: 0.3691 - val_acc: 0.9420 - val_metric_LB: 0.9362\n",
      "Epoch 29/50\n",
      "359/358 [==============================] - 149s 415ms/step - loss: 0.2558 - acc: 0.9751 - metric_LB: 0.9681 - val_loss: 0.3665 - val_acc: 0.9464 - val_metric_LB: 0.9373\n",
      "Epoch 30/50\n",
      "359/358 [==============================] - 149s 415ms/step - loss: 0.1982 - acc: 0.9845 - metric_LB: 0.9821 - val_loss: 0.3529 - val_acc: 0.9464 - val_metric_LB: 0.9380\n",
      "Epoch 31/50\n",
      "359/358 [==============================] - 147s 411ms/step - loss: 0.2239 - acc: 0.9790 - metric_LB: 0.9726 - val_loss: 0.3655 - val_acc: 0.9442 - val_metric_LB: 0.9337\n",
      "Epoch 32/50\n",
      "359/358 [==============================] - 149s 415ms/step - loss: 0.1672 - acc: 0.9834 - metric_LB: 0.9775 - val_loss: 0.3452 - val_acc: 0.9487 - val_metric_LB: 0.9381\n",
      "Epoch 33/50\n",
      "359/358 [==============================] - 147s 410ms/step - loss: 0.1612 - acc: 0.9884 - metric_LB: 0.9839 - val_loss: 0.3649 - val_acc: 0.9353 - val_metric_LB: 0.9265\n",
      "Epoch 34/50\n",
      "359/358 [==============================] - 147s 411ms/step - loss: 0.1922 - acc: 0.9812 - metric_LB: 0.9798 - val_loss: 0.3800 - val_acc: 0.9397 - val_metric_LB: 0.9313\n",
      "Epoch 35/50\n",
      "359/358 [==============================] - 147s 410ms/step - loss: 0.2436 - acc: 0.9834 - metric_LB: 0.9798 - val_loss: 0.3606 - val_acc: 0.9375 - val_metric_LB: 0.9294\n",
      "Epoch 36/50\n",
      "359/358 [==============================] - 147s 410ms/step - loss: 0.1573 - acc: 0.9845 - metric_LB: 0.9787 - val_loss: 0.3673 - val_acc: 0.9420 - val_metric_LB: 0.9322\n",
      "Epoch 37/50\n",
      "359/358 [==============================] - 147s 410ms/step - loss: 0.1596 - acc: 0.9845 - metric_LB: 0.9823 - val_loss: 0.3670 - val_acc: 0.9420 - val_metric_LB: 0.9322\n",
      "Epoch 38/50\n",
      "359/358 [==============================] - 147s 410ms/step - loss: 0.1910 - acc: 0.9801 - metric_LB: 0.9735 - val_loss: 0.3736 - val_acc: 0.9420 - val_metric_LB: 0.9322\n",
      "Epoch 39/50\n",
      "359/358 [==============================] - 147s 411ms/step - loss: 0.1535 - acc: 0.9856 - metric_LB: 0.9813 - val_loss: 0.3710 - val_acc: 0.9397 - val_metric_LB: 0.9290\n",
      "Epoch 40/50\n",
      "359/358 [==============================] - 147s 411ms/step - loss: 0.1571 - acc: 0.9861 - metric_LB: 0.9818 - val_loss: 0.3691 - val_acc: 0.9420 - val_metric_LB: 0.9322\n",
      "Epoch 41/50\n",
      "359/358 [==============================] - 148s 411ms/step - loss: 0.1678 - acc: 0.9850 - metric_LB: 0.9827 - val_loss: 0.3669 - val_acc: 0.9397 - val_metric_LB: 0.9312\n",
      "Epoch 42/50\n",
      "359/358 [==============================] - 147s 410ms/step - loss: 0.1841 - acc: 0.9839 - metric_LB: 0.9780 - val_loss: 0.3604 - val_acc: 0.9464 - val_metric_LB: 0.9373\n",
      "Epoch 43/50\n",
      "359/358 [==============================] - 147s 410ms/step - loss: 0.2012 - acc: 0.9823 - metric_LB: 0.9778 - val_loss: 0.3568 - val_acc: 0.9464 - val_metric_LB: 0.9364\n",
      "Epoch 44/50\n",
      "359/358 [==============================] - 147s 410ms/step - loss: 0.1739 - acc: 0.9795 - metric_LB: 0.9764 - val_loss: 0.3579 - val_acc: 0.9420 - val_metric_LB: 0.9322\n",
      "Epoch 45/50\n",
      "359/358 [==============================] - 148s 411ms/step - loss: 0.1507 - acc: 0.9856 - metric_LB: 0.9803 - val_loss: 0.3540 - val_acc: 0.9442 - val_metric_LB: 0.9337\n"
     ]
    },
    {
     "name": "stdout",
     "output_type": "stream",
     "text": [
      "Epoch 46/50\n",
      "359/358 [==============================] - 147s 410ms/step - loss: 0.1365 - acc: 0.9873 - metric_LB: 0.9835 - val_loss: 0.3520 - val_acc: 0.9442 - val_metric_LB: 0.9344\n",
      "Epoch 47/50\n",
      "359/358 [==============================] - 147s 411ms/step - loss: 0.1494 - acc: 0.9839 - metric_LB: 0.9768 - val_loss: 0.3521 - val_acc: 0.9420 - val_metric_LB: 0.9330\n",
      "Epoch 48/50\n",
      "359/358 [==============================] - 147s 411ms/step - loss: 0.1508 - acc: 0.9834 - metric_LB: 0.9786 - val_loss: 0.3538 - val_acc: 0.9442 - val_metric_LB: 0.9344\n",
      "Epoch 49/50\n",
      "359/358 [==============================] - 148s 411ms/step - loss: 0.1890 - acc: 0.9817 - metric_LB: 0.9768 - val_loss: 0.3507 - val_acc: 0.9442 - val_metric_LB: 0.9358\n",
      "Epoch 50/50\n",
      "359/358 [==============================] - 147s 410ms/step - loss: 0.1672 - acc: 0.9878 - metric_LB: 0.9833 - val_loss: 0.3509 - val_acc: 0.9464 - val_metric_LB: 0.9372\n",
      "[INFO] serializing network...\n"
     ]
    },
    {
     "data": {
      "image/png": "[encoded data removed]",
      "text/plain": [
       "<Figure size 432x288 with 1 Axes>"
      ]
     },
     "metadata": {},
     "output_type": "display_data"
    }
   ],
   "source": [
    "import os\n",
    "from keras import optimizers\n",
    "from sklearn.model_selection import train_test_split\n",
    "\n",
    "os.environ[\"CUDA_DEVICE_ORDER\"]=\"PCI_BUS_ID\"  \n",
    "os.environ[\"CUDA_VISIBLE_DEVICES\"]=\"1,2\"  \n",
    "\n",
    "if __name__=='__main__':\n",
    "    train_file_path = \"/home/weijia.wu/workspace/Kaggle/rolled_steel/dataset_gray/train_data\"\n",
    "    trainX,trainY = load_data(train_file_path)\n",
    "    trainX,testX,trainY,testY= train_test_split(trainX,trainY,test_size=0.2,random_state=0)\n",
    "#     construct the image generator for data augmentation\n",
    "    aug = ImageDataGenerator(rotation_range=30, width_shift_range=0.1,\n",
    "        height_shift_range=0.1, shear_range=0.2, zoom_range=0.2,\n",
    "        horizontal_flip=True, fill_mode=\"nearest\")\n",
    "    train(aug,trainX,trainY,testX,testY)"
   ]
  },
  {
   "cell_type": "markdown",
   "metadata": {},
   "source": [
    "# 交叉检验"
   ]
  },
  {
   "cell_type": "code",
   "execution_count": null,
   "metadata": {},
   "outputs": [],
   "source": []
  },
  {
   "cell_type": "markdown",
   "metadata": {},
   "source": [
    "# 绘制混淆矩阵"
   ]
  },
  {
   "cell_type": "code",
   "execution_count": 105,
   "metadata": {},
   "outputs": [
    {
     "data": {
      "text/plain": [
       "array([[1., 0., 0., ..., 0., 0., 0.],\n",
       "       [1., 0., 0., ..., 0., 0., 0.],\n",
       "       [0., 0., 0., ..., 0., 1., 0.],\n",
       "       ...,\n",
       "       [0., 0., 1., ..., 0., 0., 0.],\n",
       "       [0., 0., 0., ..., 0., 0., 0.],\n",
       "       [0., 0., 0., ..., 0., 0., 0.]])"
      ]
     },
     "execution_count": 105,
     "metadata": {},
     "output_type": "execute_result"
    }
   ],
   "source": [
    "testY"
   ]
  },
  {
   "cell_type": "code",
   "execution_count": 124,
   "metadata": {},
   "outputs": [
    {
     "data": {
      "text/plain": [
       "array([ 0,  0, 10,  0,  0,  6,  7, 11,  0,  0,  2,  3,  5,  0,  0,  0,  0,\n",
       "        0,  3,  0,  9,  7,  0, 11,  3, 11,  0,  4,  0,  0,  0, 10, 11,  0,\n",
       "        0,  0,  0,  5,  0,  0,  6, 11,  6,  0,  0, 10, 10,  8,  0,  0,  7,\n",
       "        5, 10,  5,  0,  0,  4, 11,  1,  7,  0,  4, 11,  0,  5,  2,  5,  1,\n",
       "        0,  0, 11, 10,  0, 11,  0,  6,  5,  7,  8,  5,  0,  0, 10,  5,  0,\n",
       "        0,  5,  0,  5,  1,  0,  0,  0,  0, 10,  0,  0,  0,  5,  5, 10,  2,\n",
       "        0, 10,  0,  0,  2, 11,  0,  0,  0,  2, 10,  3,  5,  0,  6, 11,  4,\n",
       "        0, 10,  5,  0,  5,  0, 11,  8,  3,  0,  6,  0,  7,  2, 11,  0,  2,\n",
       "       10,  1,  0,  2,  5,  8,  8,  0,  0,  3,  0, 11,  8,  0, 11,  0,  0,\n",
       "       11,  0,  5,  0,  0, 11,  6, 10,  0,  4,  5, 11,  7,  2,  0,  0,  0,\n",
       "        2,  0,  0,  2, 11, 10,  5,  6,  0,  0,  0,  7,  5,  8,  5,  0,  0,\n",
       "        0,  4,  0,  4,  0,  2,  2, 11, 11,  0,  0,  0,  0,  0,  5,  0,  9,\n",
       "        0,  2,  9,  1,  4,  0, 11,  4,  0,  0,  0,  0, 11, 11,  0, 10,  0,\n",
       "        0,  0,  5,  0,  4,  5, 10,  0,  6,  5,  0,  1,  0,  0, 10, 10, 10,\n",
       "       10,  0,  4,  5,  0,  0,  0,  2,  0,  9,  6, 10,  5, 11,  5, 10, 10,\n",
       "        4,  0,  0, 10,  0, 10, 10,  0,  0,  0, 10,  0,  0,  2,  7, 11,  0,\n",
       "        5,  3,  2,  2, 11,  0,  0, 11,  0,  0,  2,  5, 11, 10,  5,  0,  6,\n",
       "        0,  0,  2,  0,  0, 10,  0,  0,  6,  0,  0,  2,  0,  0,  5,  0, 10,\n",
       "        0,  5,  3,  0,  0,  5,  5,  2,  5,  8, 11,  0,  0, 11, 11,  3, 10,\n",
       "        6,  0,  0,  6, 10,  5, 11,  1, 11, 10, 10,  8,  0, 10,  1,  6,  0,\n",
       "        5, 10,  0, 11,  0,  2,  6, 11,  6,  4,  0,  0,  8,  8,  0,  0,  0,\n",
       "        5,  4,  2, 10,  6, 11,  5,  0,  0,  7,  0,  0,  0,  2,  6, 11,  0,\n",
       "        0,  0,  0,  2,  0,  5,  0,  0,  5,  0,  5,  0,  2,  5,  0,  0,  9,\n",
       "        0,  4,  3,  0,  2,  0, 10,  0,  0,  0,  0, 11,  0,  5,  0,  0,  9,\n",
       "        9,  0,  0,  0,  0,  3,  0,  0,  0, 10,  2,  0, 11,  2,  0,  0,  5,\n",
       "        0,  0,  0,  0,  4,  0,  0,  9,  0,  2, 10,  0,  0,  3,  1, 10, 10,\n",
       "       11,  6,  0,  2,  5,  6])"
      ]
     },
     "execution_count": 124,
     "metadata": {},
     "output_type": "execute_result"
    }
   ],
   "source": [
    "test_Y = np.argmax(testY,axis=1)\n",
    "test_Y"
   ]
  },
  {
   "cell_type": "code",
   "execution_count": 119,
   "metadata": {},
   "outputs": [],
   "source": [
    "test_pre_Y = model.predict(testX)"
   ]
  },
  {
   "cell_type": "code",
   "execution_count": 120,
   "metadata": {},
   "outputs": [
    {
     "data": {
      "text/plain": [
       "array([[9.99999881e-01, 8.50909621e-12, 7.90378607e-09, ...,\n",
       "        4.94235859e-12, 9.61847491e-10, 6.01917449e-08],\n",
       "       [9.99999881e-01, 2.84481987e-11, 9.18024146e-09, ...,\n",
       "        2.00599043e-12, 3.08143200e-08, 1.15540978e-07],\n",
       "       [1.21562934e-07, 6.05261441e-09, 4.73682633e-07, ...,\n",
       "        8.86650309e-09, 9.98947442e-01, 2.64180853e-04],\n",
       "       ...,\n",
       "       [1.36277505e-14, 4.33813641e-16, 1.00000000e+00, ...,\n",
       "        2.88833106e-18, 1.42814453e-16, 9.24443716e-11],\n",
       "       [1.66041381e-09, 1.79262681e-11, 2.15907014e-10, ...,\n",
       "        3.05030605e-13, 3.62337182e-09, 1.08681525e-06],\n",
       "       [1.37741121e-11, 3.34964769e-14, 4.66969345e-12, ...,\n",
       "        2.07719516e-14, 8.86798013e-12, 1.41446898e-11]], dtype=float32)"
      ]
     },
     "execution_count": 120,
     "metadata": {},
     "output_type": "execute_result"
    }
   ],
   "source": [
    "test_pre_Y"
   ]
  },
  {
   "cell_type": "code",
   "execution_count": 121,
   "metadata": {},
   "outputs": [],
   "source": [
    "test_pre_Y = np.argmax(test_pre_Y,axis=1)"
   ]
  },
  {
   "cell_type": "code",
   "execution_count": 122,
   "metadata": {},
   "outputs": [
    {
     "data": {
      "text/plain": [
       "array([ 0,  0, 10,  0,  0,  6,  7, 11,  0,  4, 11,  3,  5,  0,  0,  0,  0,\n",
       "        0,  3,  0,  9,  7,  0, 11,  3, 10,  0,  4,  0,  0,  0, 10, 11,  0,\n",
       "        0,  0,  0,  5,  0,  0,  6, 11,  6,  0,  0, 10, 10,  8,  0,  0,  7,\n",
       "        5,  6,  5,  0,  0,  4, 11,  1,  7,  0,  4, 11,  0,  5,  2,  5,  1,\n",
       "        0,  0, 11, 10,  0,  0,  0,  6,  5,  7,  8,  5,  0,  0, 10,  5,  0,\n",
       "        0,  5,  0,  5,  1,  0,  0,  0,  0, 10,  0,  0,  0,  5,  5, 10,  2,\n",
       "        0, 10, 10,  0,  2, 11,  0,  0,  0, 10, 10,  3,  5,  0,  6, 11,  4,\n",
       "        0, 11,  5,  0,  5,  0, 11,  8,  3,  0,  6,  0,  7,  2, 11,  0,  2,\n",
       "       10, 11,  0,  2,  5,  8,  8,  0,  0,  3,  0, 11,  8,  0, 11,  0,  0,\n",
       "       11,  0,  5,  0,  0, 11,  6, 10,  0,  4,  5, 11,  7,  2,  0,  0,  0,\n",
       "        2,  0,  0,  2, 11, 10,  5,  6,  0,  0,  0,  7,  5,  8,  5,  0,  0,\n",
       "        0,  4,  0,  4,  0,  2,  2, 11,  6,  0,  0,  0,  0,  0,  5,  0,  9,\n",
       "        0,  2,  9,  1,  4,  0, 11,  4,  0,  0,  0,  0, 11, 11,  0, 10,  0,\n",
       "        0,  0,  5,  0,  4,  5, 10,  0,  6,  5,  0,  1,  0,  0, 10, 10, 10,\n",
       "       10,  0,  4,  5,  0,  0,  0,  2,  0,  9,  6, 10,  5, 11,  5, 10, 10,\n",
       "        4,  0,  0, 10,  0, 10, 10,  0,  0,  0, 10,  0,  0,  2,  7, 11,  0,\n",
       "        5,  3,  2,  2, 11,  0,  0, 11,  0,  0,  2,  5, 11, 10,  5,  0,  6,\n",
       "        0,  0,  2,  0,  0, 10,  0,  0,  6,  0,  0,  2,  0,  0,  5,  0, 10,\n",
       "        0,  5,  3,  0,  0,  5,  5,  2,  5,  8, 10,  0,  0, 11, 11,  3, 10,\n",
       "        6,  0,  0,  6, 10,  5, 11,  1, 11, 10, 10,  8,  0, 10,  1,  6,  0,\n",
       "        5, 10,  0, 11,  0, 11, 11, 10,  6,  4,  0,  0,  8,  8,  0,  0,  0,\n",
       "        5,  4,  2, 10, 11, 11,  5,  0,  0,  7,  0,  0,  0,  2,  6, 11,  0,\n",
       "        0,  0,  0,  2,  0,  5,  0,  0,  5,  0,  5,  0,  2,  5,  0,  0,  9,\n",
       "        0,  4,  3,  0,  2,  0, 10,  0,  0,  0,  0, 10,  0,  5,  0,  0,  9,\n",
       "        9,  0,  0,  0,  0,  3,  0,  0,  0, 10,  2,  0, 11,  2,  0,  0,  5,\n",
       "        0,  0,  0,  0,  4,  0,  0,  9,  0,  2, 10,  0,  0,  3,  1, 10, 10,\n",
       "       11,  6,  0,  2,  5,  6])"
      ]
     },
     "execution_count": 122,
     "metadata": {},
     "output_type": "execute_result"
    }
   ],
   "source": [
    "test_pre_Y"
   ]
  },
  {
   "cell_type": "code",
   "execution_count": 146,
   "metadata": {},
   "outputs": [],
   "source": [
    "def plot_confusion_matrix(cm, classes,\n",
    "                          normalize=False,\n",
    "                          title='Confusion matrix',\n",
    "                          cmap=plt.cm.Blues):\n",
    "    \n",
    "\n",
    "    \"\"\"\n",
    "    This function prints and plots the confusion matrix.\n",
    "    Normalization can be applied by setting `normalize=True`.\n",
    "    \"\"\"\n",
    "    if normalize:\n",
    "        cm = cm.astype('float')/ cm.sum(axis=1)[:, np.newaxis]\n",
    "        print(\"Normalized confusion matrix\")\n",
    "    else:\n",
    "        print('Confusion matrix, without normalization')\n",
    "\n",
    "    print(cm)\n",
    "\n",
    "    plt.imshow(cm, interpolation='nearest', cmap=cmap)\n",
    "    plt.title(title)\n",
    "    plt.colorbar()\n",
    " \n",
    "    tick_marks =np.arange(len(classes))\n",
    "    plt.xticks(tick_marks,classes, rotation=45)\n",
    "    plt.yticks(tick_marks,classes)\n",
    "\n",
    "    fmt = '.2f' if normalize else 'd'\n",
    "    thresh=cm.max() / 2.\n",
    "    for i, j in itertools.product(range(cm.shape[0]), range(cm.shape[1])):\n",
    "               plt.text(j, i, format(cm[i, j], fmt),horizontalalignment=\"center\",color=\"white\" if cm[i, j] > thresh else \"black\")\n",
    "\n",
    "    plt.ylabel('True label')\n",
    "    plt.xlabel('Predicted label')\n",
    "    plt.tight_layout()"
   ]
  },
  {
   "cell_type": "code",
   "execution_count": 139,
   "metadata": {},
   "outputs": [
    {
     "data": {
      "text/plain": [
       "array([[195,   0,   0,   0,   1,   0,   0,   0,   0,   0,   1,   0],\n",
       "       [  0,   8,   0,   0,   0,   0,   0,   0,   0,   0,   0,   1],\n",
       "       [  0,   0,  29,   0,   0,   0,   0,   0,   0,   0,   1,   2],\n",
       "       [  0,   0,   0,  12,   0,   0,   0,   0,   0,   0,   0,   0],\n",
       "       [  0,   0,   0,   0,  16,   0,   0,   0,   0,   0,   0,   0],\n",
       "       [  0,   0,   0,   0,   0,  48,   0,   0,   0,   0,   0,   0],\n",
       "       [  0,   0,   0,   0,   0,   0,  19,   0,   0,   0,   0,   2],\n",
       "       [  0,   0,   0,   0,   0,   0,   0,  10,   0,   0,   0,   0],\n",
       "       [  0,   0,   0,   0,   0,   0,   0,   0,  11,   0,   0,   0],\n",
       "       [  0,   0,   0,   0,   0,   0,   0,   0,   0,   8,   0,   0],\n",
       "       [  0,   0,   0,   0,   0,   0,   1,   0,   0,   0,  41,   1],\n",
       "       [  1,   0,   0,   0,   0,   0,   1,   0,   0,   0,   4,  35]])"
      ]
     },
     "execution_count": 139,
     "metadata": {},
     "output_type": "execute_result"
    }
   ],
   "source": [
    "from sklearn.metrics import confusion_matrix\n",
    "cm = confusion_matrix(y_true=test_Y,y_pred=test_pre_Y)\n",
    "cm"
   ]
  },
  {
   "cell_type": "code",
   "execution_count": 155,
   "metadata": {},
   "outputs": [
    {
     "name": "stdout",
     "output_type": "stream",
     "text": [
      "Normalized confusion matrix\n",
      "[[0.98984772 0.         0.         0.         0.00507614 0.\n",
      "  0.         0.         0.         0.         0.00507614 0.        ]\n",
      " [0.         0.88888889 0.         0.         0.         0.\n",
      "  0.         0.         0.         0.         0.         0.11111111]\n",
      " [0.         0.         0.90625    0.         0.         0.\n",
      "  0.         0.         0.         0.         0.03125    0.0625    ]\n",
      " [0.         0.         0.         1.         0.         0.\n",
      "  0.         0.         0.         0.         0.         0.        ]\n",
      " [0.         0.         0.         0.         1.         0.\n",
      "  0.         0.         0.         0.         0.         0.        ]\n",
      " [0.         0.         0.         0.         0.         1.\n",
      "  0.         0.         0.         0.         0.         0.        ]\n",
      " [0.         0.         0.         0.         0.         0.\n",
      "  0.9047619  0.         0.         0.         0.         0.0952381 ]\n",
      " [0.         0.         0.         0.         0.         0.\n",
      "  0.         1.         0.         0.         0.         0.        ]\n",
      " [0.         0.         0.         0.         0.         0.\n",
      "  0.         0.         1.         0.         0.         0.        ]\n",
      " [0.         0.         0.         0.         0.         0.\n",
      "  0.         0.         0.         1.         0.         0.        ]\n",
      " [0.         0.         0.         0.         0.         0.\n",
      "  0.02325581 0.         0.         0.         0.95348837 0.02325581]\n",
      " [0.02439024 0.         0.         0.         0.         0.\n",
      "  0.02439024 0.         0.         0.         0.09756098 0.85365854]]\n"
     ]
    },
    {
     "data": {
      "image/png": "[encoded data removed]",
      "text/plain": [
       "<Figure size 720x720 with 2 Axes>"
      ]
     },
     "metadata": {},
     "output_type": "display_data"
    }
   ],
   "source": [
    "import itertools   #model  15\n",
    "from sklearn.metrics import confusion_matrix\n",
    "cm = confusion_matrix(y_true=test_Y,y_pred=test_pre_Y)\n",
    "class_names = ['norm','defect1','defect2','defect3','defect4','defect5',\n",
    "               'defect6','defect7','defect8','defect9','defect10','defect11']\n",
    "plt.figure(figsize=(10,10))\n",
    "plot_confusion_matrix(cm, classes=class_names,normalize=True,title='Confusion matrix, without normalization')"
   ]
  },
  {
   "cell_type": "code",
   "execution_count": 147,
   "metadata": {
    "scrolled": false
   },
   "outputs": [
    {
     "name": "stdout",
     "output_type": "stream",
     "text": [
      "Normalized confusion matrix\n",
      "[[0.98984772 0.         0.         0.         0.00507614 0.\n",
      "  0.         0.         0.         0.         0.00507614 0.        ]\n",
      " [0.         0.88888889 0.         0.         0.         0.\n",
      "  0.         0.         0.         0.         0.         0.11111111]\n",
      " [0.         0.         0.90625    0.         0.         0.\n",
      "  0.         0.         0.         0.         0.03125    0.0625    ]\n",
      " [0.         0.         0.         1.         0.         0.\n",
      "  0.         0.         0.         0.         0.         0.        ]\n",
      " [0.         0.         0.         0.         1.         0.\n",
      "  0.         0.         0.         0.         0.         0.        ]\n",
      " [0.         0.         0.         0.         0.         1.\n",
      "  0.         0.         0.         0.         0.         0.        ]\n",
      " [0.         0.         0.         0.         0.         0.\n",
      "  0.9047619  0.         0.         0.         0.         0.0952381 ]\n",
      " [0.         0.         0.         0.         0.         0.\n",
      "  0.         1.         0.         0.         0.         0.        ]\n",
      " [0.         0.         0.         0.         0.         0.\n",
      "  0.         0.         1.         0.         0.         0.        ]\n",
      " [0.         0.         0.         0.         0.         0.\n",
      "  0.         0.         0.         1.         0.         0.        ]\n",
      " [0.         0.         0.         0.         0.         0.\n",
      "  0.02325581 0.         0.         0.         0.95348837 0.02325581]\n",
      " [0.02439024 0.         0.         0.         0.         0.\n",
      "  0.02439024 0.         0.         0.         0.09756098 0.85365854]]\n"
     ]
    },
    {
     "data": {
      "image/png": "[encoded data removed]",
      "text/plain": [
       "<Figure size 720x720 with 2 Axes>"
      ]
     },
     "metadata": {},
     "output_type": "display_data"
    }
   ],
   "source": [
    "import itertools\n",
    "class_names = ['norm','defect1','defect2','defect3','defect4','defect5',\n",
    "               'defect6','defect7','defect8','defect9','defect10','defect11']\n",
    "plt.figure(figsize=(10,10))\n",
    "plot_confusion_matrix(cm, classes=class_names,normalize=True,title='Confusion matrix, without normalization')"
   ]
  },
  {
   "cell_type": "markdown",
   "metadata": {},
   "source": [
    "# 预测结果"
   ]
  },
  {
   "cell_type": "code",
   "execution_count": 21,
   "metadata": {},
   "outputs": [
    {
     "name": "stdout",
     "output_type": "stream",
     "text": [
      "['81.jpg', '132.jpg', '289.jpg', '166.jpg', '199.jpg', '3.jpg', '154.jpg', '76.jpg', '373.jpg', '185.jpg', '139.jpg', '14.jpg', '116.jpg', '236.jpg', '16.jpg', '265.jpg', '69.jpg', '181.jpg', '391.jpg', '151.jpg', '380.jpg', '164.jpg', '368.jpg', '68.jpg', '301.jpg', '410.jpg', '204.jpg', '381.jpg', '386.jpg', '388.jpg', '29.jpg', '438.jpg', '309.jpg', '228.jpg', '351.jpg', '34.jpg', '0.jpg', '294.jpg', '311.jpg', '307.jpg', '74.jpg', '45.jpg', '100.jpg', '360.jpg', '213.jpg', '394.jpg', '223.jpg', '316.jpg', '336.jpg', '260.jpg', '123.jpg', '21.jpg', '270.jpg', '104.jpg', '201.jpg', '149.jpg', '248.jpg', '197.jpg', '175.jpg', '382.jpg', '344.jpg', '308.jpg', '271.jpg', '238.jpg', '144.jpg', '324.jpg', '42.jpg', '89.jpg', '346.jpg', '52.jpg', '186.jpg', '28.jpg', '257.jpg', '312.jpg', '298.jpg', '375.jpg', '134.jpg', '216.jpg', '155.jpg', '117.jpg', '383.jpg', '63.jpg', '87.jpg', '396.jpg', '229.jpg', '84.jpg', '124.jpg', '200.jpg', '162.jpg', '356.jpg', '46.jpg', '419.jpg', '137.jpg', '326.jpg', '427.jpg', '402.jpg', '303.jpg', '266.jpg', '405.jpg', '96.jpg', '249.jpg', '209.jpg', '90.jpg', '12.jpg', '363.jpg', '267.jpg', '145.jpg', '241.jpg', '135.jpg', '322.jpg', '142.jpg', '111.jpg', '47.jpg', '44.jpg', '109.jpg', '214.jpg', '106.jpg', '291.jpg', '269.jpg', '215.jpg', '327.jpg', '433.jpg', '347.jpg', '379.jpg', '403.jpg', '323.jpg', '247.jpg', '287.jpg', '325.jpg', '313.jpg', '283.jpg', '125.jpg', '138.jpg', '8.jpg', '115.jpg', '180.jpg', '121.jpg', '288.jpg', '231.jpg', '273.jpg', '411.jpg', '217.jpg', '189.jpg', '436.jpg', '432.jpg', '85.jpg', '71.jpg', '251.jpg', '95.jpg', '177.jpg', '426.jpg', '233.jpg', '296.jpg', '371.jpg', '245.jpg', '218.jpg', '58.jpg', '51.jpg', '389.jpg', '103.jpg', '80.jpg', '399.jpg', '262.jpg', '353.jpg', '191.jpg', '24.jpg', '417.jpg', '62.jpg', '91.jpg', '146.jpg', '367.jpg', '99.jpg', '17.jpg', '328.jpg', '278.jpg', '163.jpg', '275.jpg', '306.jpg', '131.jpg', '384.jpg', '429.jpg', '234.jpg', '156.jpg', '315.jpg', '259.jpg', '196.jpg', '246.jpg', '72.jpg', '239.jpg', '93.jpg', '300.jpg', '112.jpg', '343.jpg', '377.jpg', '118.jpg', '431.jpg', '98.jpg', '366.jpg', '88.jpg', '244.jpg', '49.jpg', '398.jpg', '120.jpg', '350.jpg', '143.jpg', '335.jpg', '390.jpg', '67.jpg', '113.jpg', '227.jpg', '250.jpg', '206.jpg', '157.jpg', '20.jpg', '348.jpg', '86.jpg', '407.jpg', '258.jpg', '26.jpg', '439.jpg', '428.jpg', '207.jpg', '414.jpg', '170.jpg', '195.jpg', '11.jpg', '129.jpg', '205.jpg', '256.jpg', '167.jpg', '171.jpg', '65.jpg', '179.jpg', '385.jpg', '242.jpg', '194.jpg', '22.jpg', '304.jpg', '285.jpg', '395.jpg', '148.jpg', '277.jpg', '370.jpg', '372.jpg', '376.jpg', '339.jpg', '337.jpg', '182.jpg', '97.jpg', '387.jpg', '153.jpg', '64.jpg', '31.jpg', '240.jpg', '78.jpg', '25.jpg', '349.jpg', '66.jpg', '92.jpg', '333.jpg', '94.jpg', '317.jpg', '314.jpg', '188.jpg', '33.jpg', '187.jpg', '160.jpg', '83.jpg', '243.jpg', '158.jpg', '358.jpg', '230.jpg', '224.jpg', '345.jpg', '281.jpg', '268.jpg', '183.jpg', '434.jpg', '38.jpg', '416.jpg', '147.jpg', '37.jpg', '226.jpg', '261.jpg', '397.jpg', '122.jpg', '332.jpg', '437.jpg', '354.jpg', '424.jpg', '393.jpg', '108.jpg', '272.jpg', '190.jpg', '53.jpg', '341.jpg', '193.jpg', '330.jpg', '338.jpg', '310.jpg', '150.jpg', '297.jpg', '5.jpg', '362.jpg', '18.jpg', '168.jpg', '48.jpg', '365.jpg', '176.jpg', '192.jpg', '422.jpg', '359.jpg', '412.jpg', '421.jpg', '9.jpg', '75.jpg', '172.jpg', '41.jpg', '319.jpg', '340.jpg', '331.jpg', '73.jpg', '130.jpg', '232.jpg', '415.jpg', '50.jpg', '70.jpg', '169.jpg', '198.jpg', '392.jpg', '133.jpg', '107.jpg', '253.jpg', '23.jpg', '292.jpg', '141.jpg', '318.jpg', '212.jpg', '408.jpg', '184.jpg', '282.jpg', '27.jpg', '276.jpg', '114.jpg', '32.jpg', '2.jpg', '302.jpg', '159.jpg', '161.jpg', '127.jpg', '255.jpg', '305.jpg', '165.jpg', '61.jpg', '210.jpg', '329.jpg', '110.jpg', '299.jpg', '378.jpg', '295.jpg', '222.jpg', '211.jpg', '13.jpg', '252.jpg', '105.jpg', '43.jpg', '361.jpg', '293.jpg', '208.jpg', '19.jpg', '140.jpg', '35.jpg', '15.jpg', '342.jpg', '355.jpg', '404.jpg', '219.jpg', '1.jpg', '435.jpg', '264.jpg', '334.jpg', '284.jpg', '279.jpg', '136.jpg', '286.jpg', '39.jpg', '77.jpg', '220.jpg', '10.jpg', '119.jpg', '237.jpg', '418.jpg', '40.jpg', '178.jpg', '55.jpg', '369.jpg', '57.jpg', '274.jpg', '263.jpg', '54.jpg', '420.jpg', '101.jpg', '290.jpg', '280.jpg', '374.jpg', '254.jpg', '56.jpg', '4.jpg', '174.jpg', '430.jpg', '400.jpg', '413.jpg', '36.jpg', '60.jpg', '128.jpg', '235.jpg', '321.jpg', '357.jpg', '79.jpg', '30.jpg', '221.jpg', '425.jpg', '6.jpg', '352.jpg', '409.jpg', '225.jpg', '203.jpg', '423.jpg', '173.jpg', '401.jpg', '102.jpg', '202.jpg', '364.jpg', '406.jpg', '152.jpg', '82.jpg', '126.jpg', '320.jpg', '7.jpg', '59.jpg']\n",
      "['defect7', 'defect5', 'defect5', 'defect2', 'defect2', 'norm', 'norm', 'defect5', 'defect11', 'defect8', 'norm', 'norm', 'defect1', 'norm', 'defect2', 'norm', 'defect6', 'defect7', 'norm', 'norm', 'defect2', 'defect1', 'defect8', 'defect2', 'norm', 'defect6', 'defect5', 'defect7', 'norm', 'defect5', 'defect5', 'defect5', 'norm', 'defect2', 'norm', 'defect5', 'norm', 'norm', 'defect8', 'defect6', 'norm', 'norm', 'defect5', 'defect11', 'norm', 'norm', 'norm', 'defect10', 'defect10', 'norm', 'defect10', 'defect11', 'defect10', 'defect11', 'defect6', 'defect7', 'defect2', 'defect11', 'defect6', 'norm', 'defect5', 'norm', 'defect2', 'defect10', 'defect5', 'defect1', 'defect5', 'norm', 'norm', 'defect5', 'defect5', 'defect10', 'norm', 'defect2', 'norm', 'defect2', 'defect11', 'defect11', 'defect5', 'defect11', 'defect10', 'defect7', 'defect10', 'defect10', 'norm', 'defect4', 'norm', 'norm', 'defect2', 'norm', 'norm', 'defect6', 'defect11', 'defect5', 'defect10', 'defect2', 'norm', 'norm', 'norm', 'norm', 'defect4', 'defect11', 'defect3', 'norm', 'defect4', 'norm', 'norm', 'defect1', 'defect10', 'defect6', 'defect9', 'defect5', 'norm', 'defect5', 'defect10', 'defect5', 'defect5', 'defect4', 'defect5', 'norm', 'norm', 'defect6', 'defect11', 'defect11', 'norm', 'defect4', 'norm', 'defect4', 'defect9', 'defect2', 'norm', 'defect5', 'defect11', 'norm', 'defect6', 'norm', 'defect4', 'norm', 'norm', 'defect5', 'defect5', 'defect6', 'norm', 'defect4', 'defect5', 'defect3', 'defect4', 'defect5', 'defect7', 'norm', 'norm', 'defect9', 'defect5', 'defect10', 'norm', 'norm', 'defect11', 'defect11', 'defect5', 'defect10', 'norm', 'defect5', 'defect4', 'norm', 'defect6', 'defect11', 'norm', 'defect7', 'defect10', 'defect8', 'defect9', 'defect5', 'norm', 'defect11', 'defect5', 'norm', 'norm', 'norm', 'defect11', 'defect3', 'defect3', 'defect11', 'defect6', 'defect5', 'defect1', 'defect4', 'defect10', 'norm', 'norm', 'norm', 'defect11', 'norm', 'defect2', 'defect6', 'defect6', 'defect5', 'norm', 'norm', 'norm', 'defect10', 'defect10', 'defect8', 'defect5', 'norm', 'norm', 'norm', 'defect5', 'defect11', 'norm', 'defect5', 'defect2', 'defect6', 'norm', 'norm', 'defect2', 'defect5', 'defect5', 'defect7', 'defect2', 'defect4', 'norm', 'defect11', 'defect5', 'defect7', 'norm', 'defect6', 'defect11', 'defect5', 'defect2', 'defect3', 'defect11', 'defect10', 'defect1', 'defect10', 'norm', 'defect1', 'defect11', 'defect9', 'defect2', 'defect2', 'norm', 'defect6', 'defect10', 'norm', 'norm', 'defect5', 'defect10', 'defect10', 'norm', 'defect10', 'norm', 'defect8', 'defect2', 'norm', 'defect2', 'defect11', 'norm', 'defect5', 'norm', 'defect5', 'norm', 'defect2', 'defect10', 'defect5', 'defect10', 'defect5', 'norm', 'defect4', 'norm', 'defect11', 'defect5', 'norm', 'defect2', 'defect5', 'defect10', 'defect11', 'norm', 'defect7', 'defect11', 'norm', 'defect7', 'defect11', 'defect10', 'defect10', 'norm', 'defect11', 'defect10', 'defect4', 'defect3', 'defect10', 'defect5', 'defect3', 'defect1', 'defect11', 'norm', 'norm', 'defect3', 'norm', 'defect5', 'defect3', 'defect6', 'defect5', 'norm', 'defect9', 'defect11', 'defect5', 'norm', 'norm', 'defect11', 'defect2', 'defect11', 'defect4', 'norm', 'norm', 'defect3', 'norm', 'defect9', 'defect11', 'norm', 'norm', 'defect10', 'norm', 'defect4', 'defect5', 'norm', 'defect4', 'defect11', 'defect4', 'norm', 'defect2', 'defect10', 'norm', 'defect2', 'norm', 'defect9', 'defect2', 'defect4', 'norm', 'defect6', 'defect5', 'norm', 'defect5', 'defect10', 'defect5', 'norm', 'defect2', 'norm', 'defect10', 'defect11', 'defect4', 'defect7', 'defect4', 'norm', 'norm', 'defect2', 'norm', 'defect4', 'defect11', 'norm', 'defect6', 'defect11', 'defect8', 'norm', 'defect5', 'norm', 'defect6', 'defect5', 'defect3', 'defect8', 'defect11', 'defect5', 'defect10', 'defect7', 'defect8', 'defect10', 'norm', 'defect4', 'norm', 'defect8', 'defect10', 'norm', 'defect10', 'norm', 'norm', 'norm', 'defect11', 'defect10', 'norm', 'norm', 'defect10', 'defect6', 'norm', 'defect2', 'defect11', 'norm', 'defect2', 'defect5', 'norm', 'defect5', 'norm', 'defect3', 'defect10', 'defect11', 'norm', 'norm', 'defect10', 'defect10', 'defect10', 'norm', 'norm', 'norm', 'defect5', 'defect2', 'defect11', 'defect8', 'defect4', 'norm', 'defect5', 'defect5', 'defect5', 'defect9', 'defect4', 'defect9', 'defect10', 'defect1', 'defect11', 'defect10', 'defect11', 'defect2', 'norm', 'defect10', 'defect7', 'defect11', 'defect11', 'defect10', 'defect5', 'defect7', 'defect5', 'defect10', 'defect10']\n"
     ]
    }
   ],
   "source": [
    "import os\n",
    "import cv2\n",
    "path = \"/home/weijia.wu/workspace/Kaggle/rolled_steel/dataset_gray/test_data/\"\n",
    "# model = load_model(\"/home/weijia.wu/workspace/Kaggle/rolled_steel/LeNet_Gangecai/traffic_sign.model\")\n",
    "\n",
    "#!/usr/bin/env python\n",
    "# coding=utf-8\n",
    " \n",
    "from xlwt import *\n",
    "#需要xlwt库的支持\n",
    "#import xlwt\n",
    "file = Workbook(encoding = 'utf-8')\n",
    "#指定file以utf-8的格式打开\n",
    "table = file.add_sheet('data')\n",
    "#指定打开的文件名\n",
    "ImageId = []\n",
    "Label = []\n",
    "def test(args):\n",
    "    image = cv2.imread(args)\n",
    "    orig = image.copy()\n",
    "    # pre-process the image for classification\n",
    "    image = cv2.resize(image, (norm_size, norm_size))\n",
    "    image = image.astype(\"float\") / 255.0\n",
    "    image = img_to_array(image)\n",
    "    image = np.expand_dims(image, axis=0)\n",
    "     \n",
    "    # classify the input image\n",
    "    result = model.predict(image)[0]\n",
    "    proba = np.max(result)\n",
    "    label = int(np.where(result==proba)[0])\n",
    "    return label\n",
    "\n",
    "files = os.listdir(path)\n",
    "\n",
    "for i in files:\n",
    "    result = test(path + i)\n",
    "    ImageId.append(i)\n",
    "    if result == 0:\n",
    "        defa = 'norm'\n",
    "    else:\n",
    "        defa = 'defect' + str(result)\n",
    "    Label.append(defa)\n",
    "#     print(i , result)\n",
    "#     print(defa)\n",
    "          \n",
    "print(ImageId)\n",
    "print(Label)\n"
   ]
  },
  {
   "cell_type": "code",
   "execution_count": 22,
   "metadata": {},
   "outputs": [],
   "source": [
    "import pandas as pd\n",
    "submissions=pd.DataFrame({\"ImageId\": ImageId,\n",
    "                         \"Label\": Label})\n",
    "submissions.to_csv(\"/home/weijia.wu/workspace/Kaggle/rolled_steel/dataset_gray/DR2.csv\", index=False, header=None)"
   ]
  },
  {
   "cell_type": "markdown",
   "metadata": {},
   "source": [
    "# CAM"
   ]
  },
  {
   "cell_type": "code",
   "execution_count": 13,
   "metadata": {},
   "outputs": [],
   "source": [
    "def visualize_grid(Xs, ubound=255.0, padding=1):\n",
    "    \"\"\"\n",
    "    Reshape a 4D tensor of image data to a grid for easy visualization.\n",
    "\n",
    "    Inputs:\n",
    "    - Xs: Data of shape (N, H, W, C)\n",
    "    - ubound: Output grid will have values scaled to the range [0, ubound]\n",
    "    - padding: The number of blank pixels between elements of the grid\n",
    "    \"\"\"\n",
    "    (N, H, W, C) = Xs.shape\n",
    "    grid_size = int(ceil(sqrt(N)))\n",
    "    grid_height = H * grid_size + padding * (grid_size - 1)\n",
    "    grid_width = W * grid_size + padding * (grid_size - 1)\n",
    "    grid = np.zeros((grid_height, grid_width, C))\n",
    "    next_idx = 0\n",
    "    y0, y1 = 0, H\n",
    "    for y in range(grid_size):\n",
    "        x0, x1 = 0, W\n",
    "        for x in range(grid_size):\n",
    "            if next_idx < N:\n",
    "                img = Xs[next_idx]\n",
    "                low, high = np.min(img), np.max(img)\n",
    "                grid[y0:y1, x0:x1] = ubound * (img - low) / (high - low)\n",
    "                # grid[y0:y1, x0:x1] = Xs[next_idx]\n",
    "                next_idx += 1\n",
    "            x0 += W + padding\n",
    "            x1 += W + padding\n",
    "        y0 += H + padding\n",
    "        y1 += H + padding\n",
    "    # grid_max = np.max(grid)\n",
    "    # grid_min = np.min(grid)\n",
    "    # grid = ubound * (grid - grid_min) / (grid_max - grid_min)\n",
    "    return grid"
   ]
  },
  {
   "cell_type": "code",
   "execution_count": null,
   "metadata": {},
   "outputs": [],
   "source": [
    "\n",
    "\n",
    "grid = visualize_grid(model.params['W1'].transpose(0, 2, 3, 1))\n",
    "plt.imshow(grid.astype('uint8'))\n",
    "plt.axis('off')\n",
    "plt.gcf().set_size_inches(5, 5)\n",
    "plt.show()"
   ]
  }
 ],
 "metadata": {
  "kernelspec": {
   "display_name": "Python 3",
   "language": "python",
   "name": "python3"
  },
  "language_info": {
   "codemirror_mode": {
    "name": "ipython",
    "version": 2
   },
   "file_extension": ".py",
   "mimetype": "text/x-python",
   "name": "python",
   "nbconvert_exporter": "python",
   "pygments_lexer": "ipython2",
   "version": "2.7.15"
  }
 },
 "nbformat": 4,
 "nbformat_minor": 2
}
