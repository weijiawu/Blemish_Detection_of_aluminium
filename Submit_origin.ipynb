{
 "cells": [
  {
   "cell_type": "markdown",
   "metadata": {},
   "source": [
    "# 搭建CNN"
   ]
  },
  {
   "cell_type": "code",
   "execution_count": 18,
   "metadata": {},
   "outputs": [],
   "source": [
    "from keras.models import Sequential\n",
    "from keras.layers.convolutional import Conv2D,MaxPooling2D\n",
    "from keras.layers.core import Activation\n",
    "from keras.layers.core import Flatten , Dense ,Dropout\n",
    "from keras import backend as K\n",
    "from imutils import paths\n",
    "from keras import applications\n",
    "from keras.layers import Input, concatenate, GlobalAveragePooling2D\n",
    "from keras.models import Model,load_model\n",
    "from keras import regularizers\n",
    "from keras.applications import ResNet50\n",
    "import os\n",
    "os.environ[\"CUDA_DEVICE_ORDER\"]=\"PCI_BUS_ID\"  \n",
    "os.environ[\"CUDA_VISIBLE_DEVICES\"]=\"1\"  \n",
    "\n",
    "base_model = ResNet50(input_shape=(512,512,3),include_top=False, weights='imagenet')\n",
    "\n",
    "\n",
    "# # build a classifier model to put on top of the convolutional model\n",
    "# top_model = Sequential()\n",
    "\n",
    "# top_model.add(AveragePooling2D(input_shape=base_model.output_shape[1:]))\n",
    "# # top_model.add(AveragePooling2D())\n",
    "# top_model.add(Dense(512, activation='relu'))\n",
    "# top_model.add(Dropout(0.5))\n",
    "# top_model.add(Dense(12, activation='softmax'))\n",
    "x = base_model.output\n",
    "x = GlobalAveragePooling2D()(x)\n",
    "x = Dense(512,activation='relu')(x)\n",
    "x = Dropout(0.5)(x)\n",
    "prediction = Dense(12,activation='softmax')(x)\n",
    "        \n",
    "model = Model(inputs=base_model.input, outputs=prediction) "
   ]
  },
  {
   "cell_type": "markdown",
   "metadata": {},
   "source": [
    "# 声明全局变量"
   ]
  },
  {
   "cell_type": "code",
   "execution_count": 19,
   "metadata": {},
   "outputs": [],
   "source": [
    "from keras.preprocessing.image import ImageDataGenerator\n",
    "from keras.optimizers import Adam\n",
    "from sklearn.model_selection import train_test_split\n",
    "from keras.preprocessing.image import img_to_array\n",
    "from keras.utils import to_categorical\n",
    "import matplotlib.pyplot as plt\n",
    "import numpy as np\n",
    "import random\n",
    "import cv2\n",
    "import sys\n",
    "sys.path.append('..')\n",
    "\n",
    "\n",
    "# initialize the number of epochs to train for, initial learning rate,\n",
    "# and batch size\n",
    "EPOCHS = 50\n",
    "INIT_LR = 1e-3\n",
    "BS = 5\n",
    "CLASS_NUM = 12\n",
    "norm_size = 512\n",
    "\n"
   ]
  },
  {
   "cell_type": "markdown",
   "metadata": {},
   "source": [
    "# 导入数据"
   ]
  },
  {
   "cell_type": "code",
   "execution_count": 20,
   "metadata": {},
   "outputs": [],
   "source": [
    "import pandas as pd\n",
    "import numpy as np\n",
    "import matplotlib.pyplot as plt\n",
    "\n",
    "def load_data(path):\n",
    "    print('[INFO] loading images...')\n",
    "    data = []\n",
    "    labels = []\n",
    "    # grad the image paths and randomly shuffle them\n",
    "    imagePaths = sorted(list(paths.list_images(path)))\n",
    "#     print(imagePaths)\n",
    "    random.seed(42)\n",
    "    random.shuffle(imagePaths)\n",
    "    # loop over the imput image \n",
    "    for imagePath in imagePaths:\n",
    "        image = cv2.imread(imagePath)\n",
    "#         print(image)\n",
    "        image = cv2.resize(image, (norm_size,norm_size))\n",
    "        image = img_to_array(image)\n",
    "        data.append(image)\n",
    "        \n",
    "        # extract the class label from the image path and update the label list\n",
    "        label = str(imagePath.split(os.path.sep)[-2])\n",
    "#         print(label)\n",
    "        labels.append(label)\n",
    "        \n",
    "    # scale the raw pixel intensities to the range(0,1)\n",
    "    data = np.array(data,dtype=\"float\") / 255.0\n",
    "    labels = np.array(labels)\n",
    "    \n",
    "    labels = to_categorical(labels,num_classes=CLASS_NUM)\n",
    "    return data,labels\n",
    "\n",
    "def panda_data(label):\n",
    "    number_list = label\n",
    "    num_list = ['norm','defect1','defect2','defect3','defect4','defect5','defect6','defect7','defect8','defect9','defect10','defect11']\n",
    "    plt.figure(figsize=(20,10))\n",
    "    plt.bar(range(len(number_list)), number_list, tick_label = num_list)\n",
    "    plt.show()\n",
    "#     df = pd.DataFrame(\n",
    "#     {'Number' : label}, \n",
    "#         index = ['norm','defect1','defect2','defect3','defect4','defect5','defect6','defect7','defect8','defect9','defect10','defect11'])\n",
    "#     df.hist(grid=False,column=\"Number\")\n"
   ]
  },
  {
   "cell_type": "code",
   "execution_count": 5,
   "metadata": {},
   "outputs": [
    {
     "name": "stdout",
     "output_type": "stream",
     "text": [
      "[INFO] loading images...\n"
     ]
    },
    {
     "data": {
      "image/png": "[encoded data removed]",
      "text/plain": [
       "<Figure size 1440x720 with 1 Axes>"
      ]
     },
     "metadata": {},
     "output_type": "display_data"
    },
    {
     "name": "stdout",
     "output_type": "stream",
     "text": [
      "[1018.0, 39.0, 149.0, 47.0, 90.0, 282.0, 77.0, 54.0, 61.0, 35.0, 209.0, 178.0]\n"
     ]
    }
   ],
   "source": [
    "from imutils import paths\n",
    "import random\n",
    "import cv2\n",
    "\n",
    "train_file_path = \"/home/weijia.wu/workspace/Kaggle/rolled_steel/dataset/train_data\"\n",
    "trainX,trainY = load_data(train_file_path)\n",
    "col = map(sum,zip(*trainY))   #按列相加\n",
    "panda_data(col)\n",
    "print(col)"
   ]
  },
  {
   "cell_type": "markdown",
   "metadata": {},
   "source": [
    "# 自定义评价函数"
   ]
  },
  {
   "cell_type": "code",
   "execution_count": 21,
   "metadata": {},
   "outputs": [],
   "source": [
    "import tensorflow as tf\n",
    "def metric_LB(y_true,y_pred):\n",
    "    y_pred_label = K.argmax(y_pred,axis=-1)\n",
    "    y_pred_ = K.one_hot(y_pred_label,num_classes=12)\n",
    "    tp_fp = K.sum(y_pred_,axis=0)\n",
    "    n = tf.count_nonzero(tp_fp,dtype='float32')\n",
    "    tp = K.sum(y_true*y_pred_,axis=0)\n",
    "    return K.sum(tp/(tp_fp+1e-6))/n"
   ]
  },
  {
   "cell_type": "markdown",
   "metadata": {},
   "source": [
    "# 训练数据"
   ]
  },
  {
   "cell_type": "code",
   "execution_count": 22,
   "metadata": {},
   "outputs": [],
   "source": [
    "from keras.callbacks import ReduceLROnPlateau\n",
    "\n",
    "# 当评价指标不在提升时，减少学习率\n",
    "reduce_lr = ReduceLROnPlateau(monitor='val_metric_LB', patience=5, mode='auto',factor=0.5,min_lr =0.5e-6)\n",
    "\n",
    "def train(aug,trainX,trainY,testX,testY):\n",
    "    # initialize the model\n",
    "    print(\"[INFO] compiling model ...\")\n",
    "\n",
    "    model.compile(loss=focal_loss_fixed,\n",
    "              optimizer=optimizers.Adam(lr=1e-4, decay=1e-6),\n",
    "              metrics=['accuracy', metric_LB])\n",
    "    #train the network\n",
    "    print(\"[INFO] training network...\")\n",
    "    H = model.fit_generator(aug.flow(trainX, trainY, batch_size=BS),\n",
    "        validation_data=(testX, testY), steps_per_epoch=len(trainX) // BS,\n",
    "        epochs=EPOCHS, verbose=1,callbacks=[checkpoint,reduce_lr],class_weight={0:1., 1:26.25806452, 2:6.832214, 3:21.42105263, \n",
    "                                                                                                                  4:11.30555556, 5:3.609929078, 6:13.12903226, \n",
    "                                                                                                                  7:18.85023256, 8:16.41917647, 9:29.07142857,\n",
    "                                                                                                                  10:4.8742515 ,  11:5.7197011234 \n",
    "                                                                                                                    })\n",
    "\n",
    "    # save the model to disk\n",
    "    print(\"[INFO] serializing network...\")\n",
    "    \n",
    "    # plot the training loss and accuracy\n",
    "    plt.style.use(\"ggplot\")\n",
    "    plt.figure()\n",
    "    N = EPOCHS\n",
    "    plt.plot(np.arange(0, N), H.history[\"loss\"], label=\"train_loss\")\n",
    "    plt.plot(np.arange(0, N), H.history[\"val_loss\"], label=\"val_loss\")\n",
    "    plt.plot(np.arange(0, N), H.history[\"acc\"], label=\"train_acc\")\n",
    "    plt.plot(np.arange(0, N), H.history[\"val_acc\"], label=\"val_acc\")\n",
    "    plt.title(\"Training Loss and Accuracy on rolled_steel classifier\")\n",
    "    plt.xlabel(\"Epoch #\")\n",
    "    plt.ylabel(\"Loss/Accuracy\")\n",
    "    plt.legend(loc=\"lower left\")\n",
    "    plt.savefig(\"/home/weijia.wu/workspace/Kaggle/rolled_steel/Net_Gangecai/result/ResNet_weijiawu_20.png\")"
   ]
  },
  {
   "cell_type": "markdown",
   "metadata": {},
   "source": [
    "# Focal loss keras"
   ]
  },
  {
   "cell_type": "code",
   "execution_count": 23,
   "metadata": {},
   "outputs": [],
   "source": [
    "gamma=2.\n",
    "alpha=.25\n",
    "def focal_loss_fixed(y_true, y_pred):\n",
    "    pt_1 = tf.where(tf.equal(y_true, 1), y_pred, tf.ones_like(y_pred))\n",
    "    pt_0 = tf.where(tf.equal(y_true, 0), y_pred, tf.zeros_like(y_pred))\n",
    "    return -K.sum(alpha * K.pow(1. - pt_1, gamma) * K.log(pt_1))-K.sum((1-alpha) * K.pow( pt_0, gamma) * K.log(1. - pt_0))"
   ]
  },
  {
   "cell_type": "markdown",
   "metadata": {},
   "source": [
    "# 实时优化器"
   ]
  },
  {
   "cell_type": "code",
   "execution_count": 24,
   "metadata": {},
   "outputs": [],
   "source": [
    "from keras.callbacks import ModelCheckpoint\n",
    "filepath = '/home/weijia.wu/workspace/Kaggle/rolled_steel/Net_Gangecai/result/ResNet_weijiawu_20.model'\n",
    "checkpoint = ModelCheckpoint(\n",
    "    filepath, \n",
    "    monitor='val_metric_LB', \n",
    "    verbose=0, \n",
    "    save_best_only=True, \n",
    "    save_weights_only=False, \n",
    "    mode='max', \n",
    "    period=1\n",
    ")"
   ]
  },
  {
   "cell_type": "markdown",
   "metadata": {},
   "source": [
    "# 导入数据并开始训练"
   ]
  },
  {
   "cell_type": "code",
   "execution_count": 36,
   "metadata": {},
   "outputs": [],
   "source": [
    "model.load_weights(\"/home/weijia.wu/workspace/Kaggle/rolled_steel/Net_Gangecai/result/ResNet_weijiawu_12.model\")"
   ]
  },
  {
   "cell_type": "code",
   "execution_count": 37,
   "metadata": {
    "scrolled": false
   },
   "outputs": [
    {
     "name": "stdout",
     "output_type": "stream",
     "text": [
      "[INFO] loading images...\n"
     ]
    },
    {
     "ename": "KeyboardInterrupt",
     "evalue": "",
     "output_type": "error",
     "traceback": [
      "\u001b[0;31m\u001b[0m",
      "\u001b[0;31mKeyboardInterrupt\u001b[0mTraceback (most recent call last)",
      "\u001b[0;32m<ipython-input-37-066cce4a35df>\u001b[0m in \u001b[0;36m<module>\u001b[0;34m()\u001b[0m\n\u001b[1;32m      6\u001b[0m \u001b[0;32mif\u001b[0m \u001b[0m__name__\u001b[0m\u001b[0;34m==\u001b[0m\u001b[0;34m'__main__'\u001b[0m\u001b[0;34m:\u001b[0m\u001b[0;34m\u001b[0m\u001b[0m\n\u001b[1;32m      7\u001b[0m     \u001b[0mtrain_file_path\u001b[0m \u001b[0;34m=\u001b[0m \u001b[0;34m\"/home/weijia.wu/workspace/Kaggle/rolled_steel/dataset/train_data\"\u001b[0m\u001b[0;34m\u001b[0m\u001b[0m\n\u001b[0;32m----> 8\u001b[0;31m     \u001b[0mtrainX\u001b[0m\u001b[0;34m,\u001b[0m\u001b[0mtrainY\u001b[0m \u001b[0;34m=\u001b[0m \u001b[0mload_data\u001b[0m\u001b[0;34m(\u001b[0m\u001b[0mtrain_file_path\u001b[0m\u001b[0;34m)\u001b[0m\u001b[0;34m\u001b[0m\u001b[0m\n\u001b[0m\u001b[1;32m      9\u001b[0m     \u001b[0mtrainX\u001b[0m\u001b[0;34m,\u001b[0m\u001b[0mtestX\u001b[0m\u001b[0;34m,\u001b[0m\u001b[0mtrainY\u001b[0m\u001b[0;34m,\u001b[0m\u001b[0mtestY\u001b[0m\u001b[0;34m=\u001b[0m \u001b[0mtrain_test_split\u001b[0m\u001b[0;34m(\u001b[0m\u001b[0mtrainX\u001b[0m\u001b[0;34m,\u001b[0m\u001b[0mtrainY\u001b[0m\u001b[0;34m,\u001b[0m\u001b[0mtest_size\u001b[0m\u001b[0;34m=\u001b[0m\u001b[0;36m0.2\u001b[0m\u001b[0;34m,\u001b[0m\u001b[0mrandom_state\u001b[0m\u001b[0;34m=\u001b[0m\u001b[0;36m0\u001b[0m\u001b[0;34m)\u001b[0m\u001b[0;34m\u001b[0m\u001b[0m\n\u001b[1;32m     10\u001b[0m \u001b[0;31m#     construct the image generator for data augmentation\u001b[0m\u001b[0;34m\u001b[0m\u001b[0;34m\u001b[0m\u001b[0m\n",
      "\u001b[0;32m<ipython-input-20-b1127d47bb23>\u001b[0m in \u001b[0;36mload_data\u001b[0;34m(path)\u001b[0m\n\u001b[1;32m     14\u001b[0m     \u001b[0;31m# loop over the imput image\u001b[0m\u001b[0;34m\u001b[0m\u001b[0;34m\u001b[0m\u001b[0m\n\u001b[1;32m     15\u001b[0m     \u001b[0;32mfor\u001b[0m \u001b[0mimagePath\u001b[0m \u001b[0;32min\u001b[0m \u001b[0mimagePaths\u001b[0m\u001b[0;34m:\u001b[0m\u001b[0;34m\u001b[0m\u001b[0m\n\u001b[0;32m---> 16\u001b[0;31m         \u001b[0mimage\u001b[0m \u001b[0;34m=\u001b[0m \u001b[0mcv2\u001b[0m\u001b[0;34m.\u001b[0m\u001b[0mimread\u001b[0m\u001b[0;34m(\u001b[0m\u001b[0mimagePath\u001b[0m\u001b[0;34m)\u001b[0m\u001b[0;34m\u001b[0m\u001b[0m\n\u001b[0m\u001b[1;32m     17\u001b[0m \u001b[0;31m#         print(image)\u001b[0m\u001b[0;34m\u001b[0m\u001b[0;34m\u001b[0m\u001b[0m\n\u001b[1;32m     18\u001b[0m         \u001b[0mimage\u001b[0m \u001b[0;34m=\u001b[0m \u001b[0mcv2\u001b[0m\u001b[0;34m.\u001b[0m\u001b[0mresize\u001b[0m\u001b[0;34m(\u001b[0m\u001b[0mimage\u001b[0m\u001b[0;34m,\u001b[0m \u001b[0;34m(\u001b[0m\u001b[0mnorm_size\u001b[0m\u001b[0;34m,\u001b[0m\u001b[0mnorm_size\u001b[0m\u001b[0;34m)\u001b[0m\u001b[0;34m)\u001b[0m\u001b[0;34m\u001b[0m\u001b[0m\n",
      "\u001b[0;31mKeyboardInterrupt\u001b[0m: "
     ]
    }
   ],
   "source": [
    "import os\n",
    "from keras import optimizers\n",
    "from sklearn.model_selection import train_test_split\n",
    " \n",
    "\n",
    "if __name__=='__main__':\n",
    "    train_file_path = \"/home/weijia.wu/workspace/Kaggle/rolled_steel/dataset/train_data\"\n",
    "    trainX,trainY = load_data(train_file_path)\n",
    "    trainX,testX,trainY,testY= train_test_split(trainX,trainY,test_size=0.2,random_state=0)\n",
    "#     construct the image generator for data augmentation\n",
    "    aug = ImageDataGenerator(rotation_range=30, width_shift_range=0.1,\n",
    "        height_shift_range=0.1, shear_range=0.2, zoom_range=0.2,\n",
    "        horizontal_flip=True, fill_mode=\"nearest\")\n",
    "    train(aug,trainX,trainY,testX,testY)"
   ]
  },
  {
   "cell_type": "markdown",
   "metadata": {},
   "source": [
    "# 预测数据集"
   ]
  },
  {
   "cell_type": "code",
   "execution_count": 38,
   "metadata": {},
   "outputs": [
    {
     "name": "stdout",
     "output_type": "stream",
     "text": [
      "['486.jpg', '81.jpg', '617.jpg', '661.jpg', '132.jpg', '652.jpg', '289.jpg', '166.jpg', '853.jpg', '466.jpg', '997.jpg', '916.jpg', '895.jpg', '199.jpg', '810.jpg', '737.jpg', '3.jpg', '953.jpg', '504.jpg', '520.jpg', '982.jpg', '531.jpg', '573.jpg', '775.jpg', '154.jpg', '930.jpg', '76.jpg', '373.jpg', '616.jpg', '185.jpg', '139.jpg', '14.jpg', '963.jpg', '116.jpg', '872.jpg', '643.jpg', '236.jpg', '968.jpg', '16.jpg', '265.jpg', '69.jpg', '693.jpg', '181.jpg', '729.jpg', '751.jpg', '391.jpg', '151.jpg', '380.jpg', '164.jpg', '368.jpg', '68.jpg', '461.jpg', '301.jpg', '819.jpg', '600.jpg', '410.jpg', '204.jpg', '567.jpg', '381.jpg', '386.jpg', '666.jpg', '970.jpg', '388.jpg', '658.jpg', '932.jpg', '462.jpg', '630.jpg', '623.jpg', '683.jpg', '954.jpg', '29.jpg', '438.jpg', '309.jpg', '228.jpg', '351.jpg', '902.jpg', '892.jpg', '34.jpg', '550.jpg', '0.jpg', '294.jpg', '766.jpg', '647.jpg', '311.jpg', '307.jpg', '684.jpg', '778.jpg', '536.jpg', '74.jpg', '45.jpg', '100.jpg', '558.jpg', '360.jpg', '213.jpg', '487.jpg', '699.jpg', '394.jpg', '223.jpg', '782.jpg', '856.jpg', '316.jpg', '336.jpg', '260.jpg', '123.jpg', '21.jpg', '270.jpg', '610.jpg', '741.jpg', '104.jpg', '873.jpg', '201.jpg', '149.jpg', '839.jpg', '248.jpg', '607.jpg', '503.jpg', '763.jpg', '197.jpg', '798.jpg', '972.jpg', '175.jpg', '869.jpg', '382.jpg', '880.jpg', '344.jpg', '844.jpg', '308.jpg', '271.jpg', '884.jpg', '629.jpg', '726.jpg', '238.jpg', '144.jpg', '663.jpg', '672.jpg', '324.jpg', '833.jpg', '977.jpg', '42.jpg', '572.jpg', '89.jpg', '346.jpg', '450.jpg', '52.jpg', '186.jpg', '28.jpg', '686.jpg', '257.jpg', '879.jpg', '312.jpg', '298.jpg', '746.jpg', '783.jpg', '814.jpg', '731.jpg', '375.jpg', '772.jpg', '134.jpg', '216.jpg', '976.jpg', '966.jpg', '815.jpg', '155.jpg', '446.jpg', '117.jpg', '634.jpg', '878.jpg', '770.jpg', '383.jpg', '821.jpg', '445.jpg', '63.jpg', '710.jpg', '87.jpg', '866.jpg', '625.jpg', '636.jpg', '396.jpg', '576.jpg', '229.jpg', '668.jpg', '456.jpg', '890.jpg', '622.jpg', '755.jpg', '506.jpg', '84.jpg', '124.jpg', '801.jpg', '795.jpg', '200.jpg', '162.jpg', '356.jpg', '46.jpg', '832.jpg', '478.jpg', '419.jpg', '561.jpg', '137.jpg', '994.jpg', '608.jpg', '984.jpg', '560.jpg', '858.jpg', '326.jpg', '847.jpg', '427.jpg', '402.jpg', '756.jpg', '714.jpg', '641.jpg', '303.jpg', '266.jpg', '467.jpg', '883.jpg', '477.jpg', '405.jpg', '586.jpg', '834.jpg', '96.jpg', '591.jpg', '868.jpg', '249.jpg', '809.jpg', '510.jpg', '209.jpg', '905.jpg', '90.jpg', '479.jpg', '12.jpg', '793.jpg', '776.jpg', '948.jpg', '694.jpg', '568.jpg', '363.jpg', '541.jpg', '500.jpg', '874.jpg', '964.jpg', '267.jpg', '145.jpg', '979.jpg', '532.jpg', '241.jpg', '441.jpg', '944.jpg', '713.jpg', '135.jpg', '569.jpg', '322.jpg', '142.jpg', '111.jpg', '787.jpg', '792.jpg', '47.jpg', '852.jpg', '44.jpg', '109.jpg', '214.jpg', '106.jpg', '291.jpg', '900.jpg', '448.jpg', '670.jpg', '269.jpg', '508.jpg', '848.jpg', '648.jpg', '215.jpg', '327.jpg', '433.jpg', '752.jpg', '743.jpg', '347.jpg', '605.jpg', '926.jpg', '379.jpg', '403.jpg', '831.jpg', '645.jpg', '850.jpg', '323.jpg', '913.jpg', '665.jpg', '247.jpg', '547.jpg', '287.jpg', '325.jpg', '571.jpg', '313.jpg', '875.jpg', '539.jpg', '283.jpg', '125.jpg', '961.jpg', '735.jpg', '138.jpg', '512.jpg', '742.jpg', '8.jpg', '115.jpg', '180.jpg', '121.jpg', '288.jpg', '565.jpg', '231.jpg', '730.jpg', '722.jpg', '919.jpg', '273.jpg', '411.jpg', '696.jpg', '492.jpg', '493.jpg', '217.jpg', '781.jpg', '189.jpg', '882.jpg', '436.jpg', '817.jpg', '603.jpg', '669.jpg', '432.jpg', '85.jpg', '488.jpg', '71.jpg', '909.jpg', '688.jpg', '646.jpg', '862.jpg', '526.jpg', '748.jpg', '497.jpg', '777.jpg', '789.jpg', '251.jpg', '514.jpg', '922.jpg', '95.jpg', '177.jpg', '426.jpg', '233.jpg', '708.jpg', '296.jpg', '816.jpg', '371.jpg', '974.jpg', '967.jpg', '453.jpg', '245.jpg', '563.jpg', '836.jpg', '218.jpg', '867.jpg', '58.jpg', '51.jpg', '841.jpg', '609.jpg', '624.jpg', '389.jpg', '103.jpg', '981.jpg', '80.jpg', '659.jpg', '399.jpg', '262.jpg', '768.jpg', '721.jpg', '353.jpg', '760.jpg', '631.jpg', '632.jpg', '709.jpg', '191.jpg', '24.jpg', '417.jpg', '962.jpg', '587.jpg', '62.jpg', '705.jpg', '823.jpg', '91.jpg', '146.jpg', '367.jpg', '99.jpg', '700.jpg', '17.jpg', '328.jpg', '553.jpg', '278.jpg', '732.jpg', '555.jpg', '685.jpg', '163.jpg', '275.jpg', '754.jpg', '790.jpg', '306.jpg', '131.jpg', '384.jpg', '896.jpg', '429.jpg', '675.jpg', '559.jpg', '950.jpg', '459.jpg', '234.jpg', '156.jpg', '698.jpg', '315.jpg', '965.jpg', '765.jpg', '259.jpg', '196.jpg', '246.jpg', '72.jpg', '516.jpg', '239.jpg', '93.jpg', '494.jpg', '992.jpg', '837.jpg', '300.jpg', '794.jpg', '112.jpg', '343.jpg', '377.jpg', '761.jpg', '118.jpg', '554.jpg', '599.jpg', '911.jpg', '431.jpg', '98.jpg', '366.jpg', '88.jpg', '987.jpg', '244.jpg', '518.jpg', '914.jpg', '893.jpg', '619.jpg', '507.jpg', '927.jpg', '49.jpg', '398.jpg', '707.jpg', '120.jpg', '350.jpg', '143.jpg', '335.jpg', '649.jpg', '390.jpg', '673.jpg', '67.jpg', '495.jpg', '113.jpg', '227.jpg', '250.jpg', '690.jpg', '206.jpg', '577.jpg', '157.jpg', '538.jpg', '593.jpg', '444.jpg', '654.jpg', '474.jpg', '946.jpg', '20.jpg', '800.jpg', '509.jpg', '657.jpg', '534.jpg', '348.jpg', '602.jpg', '812.jpg', '464.jpg', '544.jpg', '86.jpg', '797.jpg', '637.jpg', '407.jpg', '258.jpg', '958.jpg', '695.jpg', '556.jpg', '26.jpg', '744.jpg', '439.jpg', '835.jpg', '428.jpg', '207.jpg', '414.jpg', '170.jpg', '195.jpg', '656.jpg', '773.jpg', '11.jpg', '129.jpg', '205.jpg', '621.jpg', '256.jpg', '167.jpg', '171.jpg', '65.jpg', '580.jpg', '179.jpg', '583.jpg', '385.jpg', '811.jpg', '929.jpg', '242.jpg', '614.jpg', '949.jpg', '925.jpg', '820.jpg', '194.jpg', '22.jpg', '996.jpg', '304.jpg', '285.jpg', '523.jpg', '395.jpg', '957.jpg', '511.jpg', '861.jpg', '148.jpg', '475.jpg', '628.jpg', '277.jpg', '370.jpg', '490.jpg', '598.jpg', '931.jpg', '627.jpg', '606.jpg', '372.jpg', '376.jpg', '562.jpg', '491.jpg', '546.jpg', '339.jpg', '337.jpg', '440.jpg', '912.jpg', '822.jpg', '613.jpg', '720.jpg', '691.jpg', '907.jpg', '843.jpg', '767.jpg', '468.jpg', '784.jpg', '728.jpg', '469.jpg', '182.jpg', '97.jpg', '718.jpg', '990.jpg', '785.jpg', '496.jpg', '857.jpg', '712.jpg', '387.jpg', '153.jpg', '952.jpg', '524.jpg', '522.jpg', '903.jpg', '633.jpg', '64.jpg', '943.jpg', '674.jpg', '31.jpg', '860.jpg', '240.jpg', '470.jpg', '762.jpg', '78.jpg', '25.jpg', '928.jpg', '501.jpg', '349.jpg', '592.jpg', '66.jpg', '519.jpg', '579.jpg', '529.jpg', '769.jpg', '92.jpg', '333.jpg', '535.jpg', '480.jpg', '94.jpg', '317.jpg', '314.jpg', '736.jpg', '188.jpg', '826.jpg', '33.jpg', '187.jpg', '160.jpg', '442.jpg', '578.jpg', '83.jpg', '528.jpg', '243.jpg', '804.jpg', '158.jpg', '358.jpg', '230.jpg', '224.jpg', '818.jpg', '551.jpg', '345.jpg', '281.jpg', '268.jpg', '918.jpg', '183.jpg', '434.jpg', '38.jpg', '416.jpg', '711.jpg', '740.jpg', '891.jpg', '915.jpg', '845.jpg', '923.jpg', '451.jpg', '644.jpg', '936.jpg', '960.jpg', '147.jpg', '829.jpg', '37.jpg', '226.jpg', '261.jpg', '397.jpg', '596.jpg', '805.jpg', '122.jpg', '638.jpg', '332.jpg', '904.jpg', '585.jpg', '483.jpg', '437.jpg', '734.jpg', '906.jpg', '813.jpg', '615.jpg', '589.jpg', '354.jpg', '582.jpg', '677.jpg', '854.jpg', '424.jpg', '886.jpg', '939.jpg', '393.jpg', '802.jpg', '564.jpg', '449.jpg', '601.jpg', '108.jpg', '938.jpg', '272.jpg', '639.jpg', '471.jpg', '190.jpg', '53.jpg', '341.jpg', '193.jpg', '489.jpg', '330.jpg', '338.jpg', '703.jpg', '476.jpg', '310.jpg', '870.jpg', '150.jpg', '725.jpg', '548.jpg', '959.jpg', '897.jpg', '910.jpg', '595.jpg', '297.jpg', '733.jpg', '5.jpg', '362.jpg', '830.jpg', '945.jpg', '527.jpg', '18.jpg', '168.jpg', '48.jpg', '365.jpg', '176.jpg', '724.jpg', '664.jpg', '590.jpg', '840.jpg', '808.jpg', '192.jpg', '422.jpg', '521.jpg', '359.jpg', '704.jpg', '481.jpg', '611.jpg', '412.jpg', '421.jpg', '855.jpg', '9.jpg', '75.jpg', '764.jpg', '859.jpg', '482.jpg', '172.jpg', '612.jpg', '41.jpg', '319.jpg', '706.jpg', '340.jpg', '780.jpg', '331.jpg', '73.jpg', '667.jpg', '130.jpg', '232.jpg', '660.jpg', '415.jpg', '457.jpg', '50.jpg', '825.jpg', '662.jpg', '70.jpg', '642.jpg', '169.jpg', '651.jpg', '198.jpg', '788.jpg', '570.jpg', '392.jpg', '719.jpg', '692.jpg', '133.jpg', '107.jpg', '253.jpg', '23.jpg', '292.jpg', '796.jpg', '908.jpg', '687.jpg', '141.jpg', '549.jpg', '807.jpg', '584.jpg', '318.jpg', '533.jpg', '212.jpg', '408.jpg', '716.jpg', '505.jpg', '682.jpg', '749.jpg', '184.jpg', '626.jpg', '282.jpg', '537.jpg', '999.jpg', '27.jpg', '276.jpg', '463.jpg', '114.jpg', '32.jpg', '2.jpg', '302.jpg', '458.jpg', '525.jpg', '717.jpg', '993.jpg', '159.jpg', '161.jpg', '127.jpg', '255.jpg', '305.jpg', '165.jpg', '942.jpg', '753.jpg', '876.jpg', '473.jpg', '61.jpg', '210.jpg', '991.jpg', '329.jpg', '110.jpg', '655.jpg', '299.jpg', '540.jpg', '378.jpg', '933.jpg', '502.jpg', '899.jpg', '803.jpg', '865.jpg', '295.jpg', '222.jpg', '211.jpg', '13.jpg', '252.jpg', '105.jpg', '635.jpg', '640.jpg', '43.jpg', '361.jpg', '293.jpg', '799.jpg', '995.jpg', '455.jpg', '208.jpg', '19.jpg', '140.jpg', '594.jpg', '973.jpg', '517.jpg', '35.jpg', '465.jpg', '806.jpg', '15.jpg', '342.jpg', '738.jpg', '355.jpg', '747.jpg', '759.jpg', '404.jpg', '219.jpg', '1.jpg', '435.jpg', '264.jpg', '701.jpg', '842.jpg', '838.jpg', '334.jpg', '985.jpg', '284.jpg', '279.jpg', '472.jpg', '136.jpg', '681.jpg', '286.jpg', '940.jpg', '935.jpg', '498.jpg', '986.jpg', '499.jpg', '39.jpg', '971.jpg', '77.jpg', '220.jpg', '10.jpg', '620.jpg', '774.jpg', '119.jpg', '771.jpg', '237.jpg', '597.jpg', '885.jpg', '758.jpg', '824.jpg', '871.jpg', '418.jpg', '40.jpg', '178.jpg', '55.jpg', '650.jpg', '697.jpg', '369.jpg', '947.jpg', '57.jpg', '969.jpg', '575.jpg', '889.jpg', '557.jpg', '274.jpg', '618.jpg', '581.jpg', '543.jpg', '863.jpg', '263.jpg', '851.jpg', '452.jpg', '901.jpg', '54.jpg', '485.jpg', '680.jpg', '460.jpg', '420.jpg', '757.jpg', '101.jpg', '290.jpg', '723.jpg', '280.jpg', '566.jpg', '887.jpg', '604.jpg', '998.jpg', '941.jpg', '983.jpg', '888.jpg', '877.jpg', '374.jpg', '827.jpg', '254.jpg', '828.jpg', '515.jpg', '545.jpg', '56.jpg', '917.jpg', '702.jpg', '975.jpg', '574.jpg', '791.jpg', '4.jpg', '174.jpg', '430.jpg', '454.jpg', '400.jpg', '542.jpg', '443.jpg', '413.jpg', '36.jpg', '864.jpg', '60.jpg', '530.jpg', '920.jpg', '128.jpg', '235.jpg', '321.jpg', '357.jpg', '79.jpg', '30.jpg', '221.jpg', '679.jpg', '425.jpg', '6.jpg', '779.jpg', '989.jpg', '352.jpg', '980.jpg', '894.jpg', '409.jpg', '846.jpg', '671.jpg', '653.jpg', '225.jpg', '588.jpg', '203.jpg', '937.jpg', '955.jpg', '423.jpg', '881.jpg', '552.jpg', '750.jpg', '786.jpg', '739.jpg', '173.jpg', '401.jpg', '102.jpg', '202.jpg', '934.jpg', '364.jpg', '676.jpg', '956.jpg', '921.jpg', '406.jpg', '924.jpg', '727.jpg', '152.jpg', '82.jpg', '126.jpg', '513.jpg', '951.jpg', '484.jpg', '320.jpg', '715.jpg', '745.jpg', '978.jpg', '988.jpg', '7.jpg', '898.jpg', '849.jpg', '447.jpg', '59.jpg', '678.jpg', '689.jpg']\n",
      "['norm', 'norm', 'norm', 'defect1', 'defect6', 'defect11', 'norm', 'norm', 'norm', 'defect9', 'defect11', 'defect10', 'norm', 'defect6', 'norm', 'norm', 'norm', 'norm', 'defect5', 'defect11', 'norm', 'defect1', 'defect8', 'defect2', 'defect10', 'defect2', 'defect2', 'norm', 'norm', 'norm', 'norm', 'norm', 'norm', 'norm', 'norm', 'defect10', 'norm', 'norm', 'norm', 'norm', 'norm', 'norm', 'defect9', 'norm', 'norm', 'norm', 'defect11', 'norm', 'norm', 'defect10', 'norm', 'norm', 'norm', 'norm', 'norm', 'defect2', 'norm', 'norm', 'norm', 'norm', 'norm', 'norm', 'defect1', 'norm', 'norm', 'norm', 'norm', 'defect11', 'norm', 'norm', 'norm', 'defect2', 'defect5', 'norm', 'norm', 'norm', 'norm', 'norm', 'norm', 'defect5', 'defect5', 'norm', 'defect5', 'defect11', 'norm', 'norm', 'norm', 'norm', 'norm', 'norm', 'defect9', 'defect10', 'norm', 'defect10', 'defect10', 'norm', 'norm', 'norm', 'defect8', 'defect3', 'norm', 'defect11', 'defect3', 'norm', 'norm', 'defect11', 'defect5', 'norm', 'norm', 'defect3', 'norm', 'defect11', 'norm', 'norm', 'defect5', 'norm', 'norm', 'norm', 'defect2', 'norm', 'defect6', 'norm', 'defect6', 'norm', 'norm', 'norm', 'defect5', 'norm', 'norm', 'defect11', 'defect5', 'defect11', 'defect1', 'norm', 'norm', 'norm', 'norm', 'norm', 'norm', 'norm', 'norm', 'defect2', 'norm', 'norm', 'norm', 'norm', 'norm', 'defect6', 'norm', 'defect8', 'norm', 'norm', 'norm', 'norm', 'norm', 'norm', 'norm', 'norm', 'norm', 'norm', 'norm', 'norm', 'norm', 'defect5', 'norm', 'norm', 'norm', 'norm', 'norm', 'norm', 'norm', 'defect1', 'norm', 'defect10', 'norm', 'norm', 'norm', 'defect2', 'defect5', 'defect9', 'defect11', 'norm', 'defect2', 'norm', 'norm', 'norm', 'norm', 'norm', 'norm', 'norm', 'norm', 'norm', 'norm', 'norm', 'norm', 'norm', 'norm', 'norm', 'norm', 'norm', 'norm', 'norm', 'norm', 'norm', 'defect10', 'norm', 'defect5', 'norm', 'norm', 'norm', 'norm', 'defect5', 'norm', 'norm', 'defect11', 'defect5', 'norm', 'norm', 'norm', 'defect9', 'norm', 'defect2', 'norm', 'norm', 'norm', 'norm', 'norm', 'norm', 'defect2', 'defect5', 'norm', 'norm', 'defect3', 'norm', 'norm', 'defect1', 'defect5', 'norm', 'defect11', 'norm', 'norm', 'norm', 'norm', 'norm', 'norm', 'norm', 'norm', 'norm', 'norm', 'defect5', 'norm', 'defect11', 'defect8', 'defect1', 'defect1', 'norm', 'norm', 'norm', 'norm', 'norm', 'norm', 'defect2', 'norm', 'norm', 'norm', 'norm', 'norm', 'norm', 'defect5', 'defect9', 'norm', 'defect11', 'defect3', 'norm', 'norm', 'defect1', 'norm', 'norm', 'norm', 'defect11', 'norm', 'defect5', 'defect1', 'norm', 'norm', 'norm', 'norm', 'norm', 'norm', 'defect11', 'norm', 'defect10', 'defect11', 'defect6', 'defect2', 'norm', 'norm', 'norm', 'norm', 'norm', 'defect10', 'norm', 'norm', 'norm', 'norm', 'defect10', 'defect2', 'defect3', 'defect2', 'defect5', 'norm', 'defect10', 'defect5', 'norm', 'defect11', 'norm', 'norm', 'norm', 'norm', 'norm', 'norm', 'norm', 'norm', 'norm', 'norm', 'norm', 'norm', 'norm', 'defect11', 'norm', 'defect2', 'norm', 'defect2', 'defect10', 'norm', 'norm', 'norm', 'defect5', 'defect1', 'defect10', 'defect11', 'defect2', 'defect8', 'defect2', 'norm', 'defect9', 'defect5', 'norm', 'norm', 'norm', 'defect6', 'norm', 'norm', 'norm', 'norm', 'norm', 'norm', 'defect3', 'defect6', 'defect2', 'norm', 'norm', 'defect5', 'norm', 'norm', 'norm', 'defect11', 'defect11', 'defect9', 'norm', 'defect5', 'defect11', 'norm', 'defect5', 'norm', 'norm', 'defect9', 'norm', 'norm', 'defect5', 'defect2', 'norm', 'norm', 'defect11', 'norm', 'norm', 'norm', 'norm', 'defect5', 'defect2', 'norm', 'norm', 'defect2', 'norm', 'defect6', 'norm', 'norm', 'norm', 'norm', 'defect2', 'defect10', 'norm', 'norm', 'norm', 'norm', 'defect6', 'defect2', 'defect5', 'norm', 'norm', 'defect2', 'norm', 'norm', 'norm', 'norm', 'defect10', 'norm', 'defect10', 'norm', 'defect2', 'defect5', 'norm', 'defect2', 'norm', 'norm', 'norm', 'norm', 'defect2', 'defect11', 'defect6', 'norm', 'norm', 'norm', 'defect5', 'norm', 'norm', 'norm', 'defect6', 'defect2', 'norm', 'norm', 'norm', 'defect7', 'norm', 'norm', 'defect3', 'defect5', 'norm', 'norm', 'norm', 'defect1', 'defect6', 'norm', 'norm', 'norm', 'norm', 'norm', 'defect6', 'norm', 'norm', 'norm', 'norm', 'norm', 'norm', 'norm', 'norm', 'defect5', 'norm', 'norm', 'norm', 'defect9', 'norm', 'norm', 'defect6', 'norm', 'defect5', 'norm', 'norm', 'norm', 'norm', 'norm', 'norm', 'defect2', 'defect5', 'norm', 'defect5', 'norm', 'norm', 'norm', 'norm', 'defect5', 'norm', 'defect5', 'norm', 'norm', 'norm', 'norm', 'defect5', 'norm', 'norm', 'norm', 'defect5', 'norm', 'defect1', 'norm', 'norm', 'defect2', 'norm', 'norm', 'defect2', 'defect5', 'norm', 'norm', 'norm', 'norm', 'defect6', 'norm', 'norm', 'defect2', 'norm', 'norm', 'norm', 'norm', 'norm', 'defect5', 'defect5', 'defect6', 'norm', 'norm', 'defect11', 'norm', 'defect11', 'defect5', 'norm', 'norm', 'norm', 'norm', 'norm', 'norm', 'norm', 'norm', 'norm', 'norm', 'norm', 'norm', 'defect11', 'norm', 'norm', 'norm', 'norm', 'norm', 'defect5', 'norm', 'defect2', 'defect3', 'defect3', 'norm', 'defect9', 'norm', 'norm', 'defect9', 'norm', 'norm', 'defect6', 'norm', 'norm', 'defect2', 'norm', 'norm', 'defect11', 'norm', 'norm', 'defect2', 'defect8', 'norm', 'norm', 'norm', 'defect2', 'norm', 'defect5', 'defect10', 'defect9', 'norm', 'defect5', 'defect10', 'defect2', 'norm', 'norm', 'norm', 'defect10', 'defect2', 'norm', 'norm', 'norm', 'norm', 'norm', 'norm', 'norm', 'defect10', 'norm', 'norm', 'defect5', 'norm', 'norm', 'norm', 'norm', 'norm', 'norm', 'norm', 'defect5', 'norm', 'norm', 'defect5', 'defect5', 'defect6', 'norm', 'defect5', 'norm', 'norm', 'norm', 'defect2', 'norm', 'norm', 'defect2', 'defect6', 'norm', 'norm', 'defect2', 'norm', 'defect9', 'norm', 'norm', 'defect2', 'norm', 'defect11', 'norm', 'defect2', 'norm', 'norm', 'norm', 'norm', 'norm', 'norm', 'norm', 'norm', 'norm', 'norm', 'norm', 'defect5', 'norm', 'defect2', 'norm', 'norm', 'norm', 'norm', 'norm', 'norm', 'defect6', 'defect3', 'norm', 'norm', 'norm', 'defect5', 'norm', 'norm', 'norm', 'defect5', 'defect2', 'norm', 'norm', 'norm', 'norm', 'defect1', 'defect5', 'norm', 'norm', 'norm', 'norm', 'defect5', 'norm', 'norm', 'defect6', 'norm', 'norm', 'defect11', 'norm', 'defect11', 'norm', 'defect11', 'defect11', 'defect2', 'norm', 'norm', 'defect3', 'norm', 'norm', 'norm', 'norm', 'norm', 'norm', 'norm', 'norm', 'norm', 'defect6', 'defect8', 'defect8', 'defect2', 'defect2', 'norm', 'norm', 'defect2', 'norm', 'defect3', 'defect10', 'defect11', 'defect11', 'defect5', 'norm', 'norm', 'norm', 'norm', 'norm', 'norm', 'norm', 'defect5', 'defect2', 'norm', 'defect5', 'defect5', 'defect2', 'defect5', 'norm', 'norm', 'defect11', 'norm', 'norm', 'norm', 'defect5', 'norm', 'norm', 'defect11', 'defect5', 'defect1', 'norm', 'defect8', 'norm', 'norm', 'defect5', 'norm', 'defect11', 'norm', 'defect11', 'norm', 'defect5', 'norm', 'norm', 'defect10', 'norm', 'norm', 'defect11', 'norm', 'norm', 'norm', 'norm', 'norm', 'norm', 'norm', 'defect9', 'norm', 'defect1', 'norm', 'defect5', 'norm', 'norm', 'defect5', 'defect6', 'norm', 'defect2', 'defect1', 'norm', 'norm', 'norm', 'norm', 'norm', 'norm', 'defect3', 'norm', 'defect10', 'norm', 'defect2', 'defect5', 'norm', 'norm', 'norm', 'norm', 'norm', 'norm', 'norm', 'norm', 'norm', 'norm', 'defect2', 'norm', 'norm', 'norm', 'norm', 'norm', 'defect2', 'norm', 'norm', 'norm', 'defect5', 'norm', 'defect8', 'defect10', 'norm', 'norm', 'norm', 'norm', 'norm', 'norm', 'norm', 'defect5', 'defect2', 'defect10', 'norm', 'norm', 'norm', 'norm', 'norm', 'norm', 'defect3', 'norm', 'norm', 'defect11', 'norm', 'defect6', 'norm', 'norm', 'norm', 'norm', 'norm', 'norm', 'norm', 'norm', 'norm', 'defect6', 'defect5', 'defect2', 'norm', 'norm', 'defect2', 'norm', 'norm', 'norm', 'defect3', 'defect5', 'defect3', 'norm', 'defect2', 'norm', 'norm', 'defect5', 'norm', 'defect5', 'defect2', 'norm', 'norm', 'defect5', 'norm', 'norm', 'defect11', 'norm', 'defect5', 'norm', 'defect11', 'defect1', 'defect2', 'norm', 'defect2', 'defect5', 'norm', 'norm', 'norm', 'norm', 'defect10', 'defect1', 'norm', 'defect6', 'norm', 'norm', 'norm', 'norm', 'norm', 'norm', 'defect2', 'norm', 'norm', 'defect2', 'norm', 'norm', 'norm', 'norm', 'norm', 'norm', 'defect6', 'norm', 'defect5', 'defect5', 'norm', 'norm', 'norm', 'norm', 'norm', 'norm', 'norm', 'norm', 'defect11', 'norm', 'defect1', 'norm', 'norm', 'norm', 'norm', 'norm', 'norm', 'defect5', 'norm', 'norm', 'norm', 'defect5', 'defect11', 'norm', 'norm', 'norm', 'defect2', 'norm', 'norm', 'norm', 'norm', 'norm', 'norm', 'norm', 'norm', 'norm', 'norm', 'norm', 'norm', 'norm', 'norm', 'norm', 'norm', 'defect9', 'defect5', 'norm', 'norm', 'norm', 'norm', 'norm', 'defect5', 'defect2', 'norm', 'norm', 'norm', 'defect2', 'norm', 'norm', 'defect5', 'norm', 'norm', 'norm', 'norm', 'norm', 'defect11', 'defect3', 'norm', 'defect11', 'norm', 'norm', 'defect5', 'defect5', 'norm', 'norm', 'defect11', 'norm', 'norm', 'norm', 'norm', 'norm', 'norm', 'norm', 'norm', 'norm', 'norm', 'norm', 'norm', 'norm', 'norm', 'norm', 'defect6']\n"
     ]
    }
   ],
   "source": [
    "import os\n",
    "import cv2\n",
    "path = \"/home/weijia.wu/workspace/Kaggle/rolled_steel/dataset/guangdong_round1_test_b_20181009/\"\n",
    "# model = load_model(\"/home/weijia.wu/workspace/Kaggle/rolled_steel/LeNet_Gangecai/traffic_sign.model\")\n",
    "\n",
    "#!/usr/bin/env python\n",
    "# coding=utf-8\n",
    " \n",
    "from xlwt import *\n",
    "#需要xlwt库的支持\n",
    "#import xlwt\n",
    "file = Workbook(encoding = 'utf-8')\n",
    "#指定file以utf-8的格式打开\n",
    "table = file.add_sheet('data')\n",
    "#指定打开的文件名\n",
    "ImageId = []\n",
    "Label = []\n",
    "def test(args):\n",
    "    image = cv2.imread(args)\n",
    "    orig = image.copy()\n",
    "    # pre-process the image for classification\n",
    "    image = cv2.resize(image, (norm_size, norm_size))\n",
    "    image = image.astype(\"float\") / 255.0\n",
    "    image = img_to_array(image)\n",
    "    image = np.expand_dims(image, axis=0)\n",
    "     \n",
    "    # classify the input image\n",
    "    result = model.predict(image)[0]\n",
    "    proba = np.max(result)\n",
    "    label = int(np.where(result==proba)[0])\n",
    "    return label\n",
    "\n",
    "files = os.listdir(path)\n",
    "\n",
    "for i in files:\n",
    "    result = test(path + i)\n",
    "    ImageId.append(i)\n",
    "    if result == 0:\n",
    "        defa = 'norm'\n",
    "    else:\n",
    "        defa = 'defect' + str(result)\n",
    "    Label.append(defa)\n",
    "#     print(i , result)\n",
    "#     print(defa)\n",
    "          \n",
    "print(ImageId)\n",
    "print(Label)\n"
   ]
  },
  {
   "cell_type": "code",
   "execution_count": 40,
   "metadata": {},
   "outputs": [],
   "source": [
    "import pandas as pd\n",
    "submissions=pd.DataFrame({\"ImageId\": ImageId,\n",
    "                         \"Label\": Label})\n",
    "submissions.to_csv(\"DRresult1.csv\", index=False, header=None)"
   ]
  }
 ],
 "metadata": {
  "kernelspec": {
   "display_name": "Python 2",
   "language": "python",
   "name": "python2"
  },
  "language_info": {
   "codemirror_mode": {
    "name": "ipython",
    "version": 2
   },
   "file_extension": ".py",
   "mimetype": "text/x-python",
   "name": "python",
   "nbconvert_exporter": "python",
   "pygments_lexer": "ipython2",
   "version": "2.7.15"
  }
 },
 "nbformat": 4,
 "nbformat_minor": 2
}
